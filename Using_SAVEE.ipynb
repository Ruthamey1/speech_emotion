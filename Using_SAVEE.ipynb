{
 "cells": [
  {
   "cell_type": "code",
   "execution_count": 18,
   "id": "8808b7a7-2e47-4f6d-9d99-641151ad6ab7",
   "metadata": {},
   "outputs": [],
   "source": [
    "import numpy as np\n",
    "import pandas as pd\n",
    "import os\n",
    "import matplotlib.pyplot as plt"
   ]
  },
  {
   "cell_type": "code",
   "execution_count": 3,
   "id": "fe7365a4-c622-4c35-8268-ea9cce2abec5",
   "metadata": {},
   "outputs": [],
   "source": [
    "savee = 'ALL'"
   ]
  },
  {
   "cell_type": "code",
   "execution_count": 5,
   "id": "38b55411-0919-46de-86be-55d59c824a93",
   "metadata": {},
   "outputs": [],
   "source": [
    "savee = os.listdir(savee)"
   ]
  },
  {
   "cell_type": "code",
   "execution_count": 9,
   "id": "b7242a32-9090-4535-aeae-1311fad33d05",
   "metadata": {},
   "outputs": [
    {
     "name": "stdout",
     "output_type": "stream",
     "text": [
      "['JK_sa01.wav', 'JK_sa15.wav', 'DC_n13.wav', 'DC_su09.wav', 'DC_n07.wav', 'JK_n20.wav', 'JK_n08.wav', 'JE_sa08.wav', 'JK_f15.wav', 'JK_f01.wav', 'KL_sa13.wav', 'KL_sa07.wav', 'JK_d03.wav', 'DC_h01.wav', 'DC_h15.wav', 'DC_h14.wav', 'JK_d02.wav', 'KL_sa06.wav', 'KL_sa12.wav', 'JK_f14.wav', 'JE_sa09.wav', 'JK_n09.wav', 'JK_n21.wav', 'DC_n06.wav', 'DC_n12.wav', 'DC_su08.wav', 'JK_sa14.wav', 'JK_sa02.wav', 'DC_n04.wav', 'DC_n10.wav', 'JK_n23.wav', 'JK_f02.wav', 'KL_sa04.wav', 'KL_sa10.wav', 'JK_d14.wav', 'DC_h02.wav', 'DC_h03.wav', 'JK_d15.wav', 'KL_sa11.wav', 'JK_d01.wav', 'KL_sa05.wav', 'JK_f03.wav', 'JK_n22.wav', 'DC_n11.wav', 'DC_n05.wav', 'JK_sa03.wav', 'JK_sa13.wav', 'JK_sa07.wav', 'DC_n29.wav', 'DC_n01.wav', 'DC_n15.wav', 'JK_n26.wav', 'JK_f07.wav', 'JK_f13.wav', 'JK_h08.wav', 'KL_sa01.wav', 'JK_d05.wav', 'KL_sa15.wav', 'JK_d11.wav', 'DC_f08.wav', 'DC_h13.wav', 'KL_a09.wav', 'DC_h07.wav', 'DC_h06.wav', 'DC_h12.wav', 'KL_a08.wav', 'DC_f09.wav', 'JK_d10.wav', 'KL_sa14.wav', 'JK_d04.wav', 'JK_h09.wav', 'JK_f12.wav', 'JK_f06.wav', 'JK_n27.wav', 'DC_n14.wav', 'DC_n28.wav', 'JK_sa06.wav', 'JK_sa12.wav', 'JK_sa04.wav', 'JK_sa10.wav', 'DC_n16.wav', 'DC_n02.wav', 'JK_n19.wav', 'JK_n25.wav', 'JE_a09.wav', 'JK_f10.wav', 'JK_f04.wav', 'DC_d09.wav', 'JK_d12.wav', 'KL_sa02.wav', 'JK_d06.wav', 'DC_h04.wav', 'DC_h10.wav', 'DC_h11.wav', 'DC_h05.wav', 'JK_d07.wav', 'KL_sa03.wav', 'JK_d13.wav', 'DC_d08.wav', 'JK_f05.wav', 'JK_f11.wav', 'JK_n30.wav', 'JK_n24.wav', 'JE_a08.wav', 'JK_n18.wav', 'DC_n03.wav', 'DC_n17.wav', 'JK_sa11.wav', 'JK_sa05.wav', 'KL_n17.wav', 'KL_n03.wav', 'JE_su04.wav', 'JE_su10.wav', 'JE_h12.wav', 'JE_h06.wav', 'JE_f09.wav', 'JE_n14.wav', 'JK_a10.wav', 'JE_n28.wav', 'JK_a04.wav', 'KL_d08.wav', 'DC_sa11.wav', 'DC_sa05.wav', 'KL_h05.wav', 'KL_h11.wav', 'KL_h10.wav', 'KL_h04.wav', 'DC_sa04.wav', 'DC_sa10.wav', 'KL_d09.wav', 'JE_n29.wav', 'JK_a05.wav', 'JK_a11.wav', 'JE_n15.wav', 'JE_n01.wav', 'JE_f08.wav', 'JE_h07.wav', 'JE_h13.wav', 'JE_su11.wav', 'JE_su05.wav', 'KL_n02.wav', 'KL_n16.wav', 'KL_n14.wav', 'JE_su13.wav', 'JE_su07.wav', 'KL_n28.wav', 'JE_d08.wav', 'JE_h05.wav', 'KL_su08.wav', 'JE_h11.wav', 'JE_n17.wav', 'JE_n03.wav', 'JK_a07.wav', 'JK_a13.wav', 'DC_sa06.wav', 'DC_sa12.wav', 'KL_h12.wav', 'DC_a08.wav', 'KL_h06.wav', 'KL_f09.wav', 'KL_f08.wav', 'KL_h07.wav', 'KL_h13.wav', 'DC_a09.wav', 'DC_sa13.wav', 'DC_sa07.wav', 'JK_a12.wav', 'JK_a06.wav', 'JE_n02.wav', 'JE_n16.wav', 'KL_su09.wav', 'JE_h10.wav', 'JE_h04.wav', 'JE_d09.wav', 'KL_n29.wav', 'JE_su06.wav', 'JE_su12.wav', 'KL_n15.wav', 'KL_n01.wav', 'JE_su02.wav', 'KL_n05.wav', 'KL_n11.wav', 'JE_h14.wav', 'JK_a02.wav', 'JE_n12.wav', 'JE_n06.wav', 'DC_sa03.wav', 'KL_h03.wav', 'KL_h02.wav', 'DC_sa02.wav', 'JE_n07.wav', 'JE_n13.wav', 'JK_a03.wav', 'JE_h15.wav', 'JE_h01.wav', 'KL_n10.wav', 'KL_n04.wav', 'JE_su03.wav', 'JE_su01.wav', 'JE_su15.wav', 'KL_n12.wav', 'KL_n06.wav', 'JE_h03.wav', 'JK_a15.wav', 'JK_a01.wav', 'JE_n05.wav', 'JK_su08.wav', 'JE_n11.wav', 'DC_sa14.wav', 'KL_h14.wav', 'KL_h15.wav', 'KL_h01.wav', 'DC_sa01.wav', 'DC_sa15.wav', 'JK_su09.wav', 'JE_n10.wav', 'JE_n04.wav', 'JK_a14.wav', 'JE_h02.wav', 'KL_n07.wav', 'KL_n13.wav', 'JE_su14.wav', 'KL_n22.wav', 'JE_d02.wav', 'KL_su02.wav', 'JE_f14.wav', 'JE_n21.wav', 'JK_su04.wav', 'JE_n09.wav', 'JK_su10.wav', 'KL_d01.wav', 'KL_d15.wav', 'DC_a02.wav', 'KL_f03.wav', 'KL_f02.wav', 'DC_a03.wav', 'KL_d14.wav', 'JE_n08.wav', 'JK_su11.wav', 'JK_su05.wav', 'JE_n20.wav', 'JE_f01.wav', 'JE_f15.wav', 'KL_su03.wav', 'JE_d03.wav', 'KL_n23.wav', 'KL_n21.wav', 'KL_n09.wav', 'JE_d01.wav', 'JE_d15.wav', 'KL_su01.wav', 'KL_su15.wav', 'JE_f03.wav', 'JE_n22.wav', 'JK_su13.wav', 'JK_su07.wav', 'KL_d02.wav', 'DC_a15.wav', 'DC_a01.wav', 'KL_f14.wav', 'KL_f01.wav', 'KL_f15.wav', 'DC_a14.wav', 'KL_d03.wav', 'JK_su06.wav', 'JK_su12.wav', 'JE_n23.wav', 'JE_f02.wav', 'KL_su14.wav', 'JE_d14.wav', 'KL_n08.wav', 'KL_n20.wav', 'KL_n18.wav', 'KL_n24.wav', 'KL_n30.wav', 'JE_d04.wav', 'JE_d10.wav', 'KL_su04.wav', 'JE_h09.wav', 'KL_su10.wav', 'JE_f06.wav', 'JE_f12.wav', 'JK_su02.wav', 'JE_n27.wav', 'KL_d13.wav', 'KL_d07.wav', 'DC_a10.wav', 'DC_a04.wav', 'KL_f11.wav', 'KL_f05.wav', 'KL_f04.wav', 'KL_f10.wav', 'DC_a05.wav', 'DC_a11.wav', 'KL_d06.wav', 'KL_d12.wav', 'JE_n26.wav', 'JK_su03.wav', 'JE_f13.wav', 'JE_f07.wav', 'JE_h08.wav', 'KL_su11.wav', 'KL_su05.wav', 'JE_d11.wav', 'JE_d05.wav', 'KL_n25.wav', 'KL_n19.wav', 'KL_n27.wav', 'JE_su08.wav', 'JE_d13.wav', 'JE_d07.wav', 'KL_su13.wav', 'KL_su07.wav', 'JE_f11.wav', 'JE_f05.wav', 'JE_n18.wav', 'JK_su01.wav', 'JK_su15.wav', 'JE_n24.wav', 'JK_a08.wav', 'JE_n30.wav', 'KL_d04.wav', 'KL_d10.wav', 'DC_sa09.wav', 'DC_a07.wav', 'KL_h09.wav', 'DC_a13.wav', 'KL_f06.wav', 'KL_f12.wav', 'KL_f13.wav', 'KL_f07.wav', 'KL_h08.wav', 'DC_a12.wav', 'DC_a06.wav', 'DC_sa08.wav', 'KL_d11.wav', 'KL_d05.wav', 'JE_n25.wav', 'JK_a09.wav', 'JK_su14.wav', 'JE_n19.wav', 'JE_f04.wav', 'JE_f10.wav', 'KL_su06.wav', 'KL_su12.wav', 'JE_d06.wav', 'JE_d12.wav', 'JE_su09.wav', 'KL_n26.wav', 'JK_sa08.wav', 'DC_n26.wav', 'DC_su14.wav', 'JK_n01.wav', 'JK_n15.wav', 'JE_a11.wav', 'JK_n29.wav', 'JE_a05.wav', 'JK_f08.wav', 'DC_d05.wav', 'JE_sa01.wav', 'JE_sa15.wav', 'DC_d11.wav', 'JK_h13.wav', 'JK_h07.wav', 'DC_f07.wav', 'DC_f13.wav', 'KL_a06.wav', 'DC_h08.wav', 'KL_a12.wav', 'DC_h09.wav', 'KL_a13.wav', 'KL_a07.wav', 'DC_f12.wav', 'DC_f06.wav', 'JK_h06.wav', 'JK_h12.wav', 'JE_sa14.wav', 'DC_d10.wav', 'DC_d04.wav', 'JK_f09.wav', 'JK_n28.wav', 'JE_a04.wav', 'JE_a10.wav', 'JK_n14.wav', 'DC_su01.wav', 'DC_su15.wav', 'DC_n27.wav', 'JK_sa09.wav', 'DC_n25.wav', 'DC_n19.wav', 'DC_su03.wav', 'JK_n16.wav', 'JK_n02.wav', 'JE_a06.wav', 'JE_a12.wav', 'DC_d12.wav', 'JE_sa02.wav', 'DC_d06.wav', 'JK_h04.wav', 'JK_h10.wav', 'JK_d09.wav', 'DC_f10.wav', 'DC_f04.wav', 'KL_a11.wav', 'KL_a05.wav', 'KL_a04.wav', 'KL_a10.wav', 'DC_f05.wav', 'DC_f11.wav', 'JK_d08.wav', 'JK_h11.wav', 'JK_h05.wav', 'JE_sa03.wav', 'DC_d07.wav', 'DC_d13.wav', 'JE_a13.wav', 'JE_a07.wav', 'JK_n03.wav', 'JK_n17.wav', 'DC_n18.wav', 'DC_su02.wav', 'DC_n30.wav', 'DC_n24.wav', 'DC_su06.wav', 'DC_n08.wav', 'DC_su12.wav', 'DC_n20.wav', 'JE_a03.wav', 'JK_n13.wav', 'JK_n07.wav', 'JE_sa13.wav', 'DC_d03.wav', 'JE_sa07.wav', 'JK_h01.wav', 'JK_h15.wav', 'DC_f15.wav', 'DC_f01.wav', 'KL_sa08.wav', 'KL_a14.wav', 'KL_a01.wav', 'KL_a15.wav', 'KL_sa09.wav', 'DC_f14.wav', 'JK_h14.wav', 'DC_d02.wav', 'JE_sa06.wav', 'JE_sa12.wav', 'JK_n06.wav', 'JK_n12.wav', 'JE_a02.wav', 'DC_n21.wav', 'DC_n09.wav', 'DC_su13.wav', 'DC_su07.wav', 'DC_su11.wav', 'DC_su05.wav', 'DC_n23.wav', 'JE_a14.wav', 'JK_n04.wav', 'JK_n10.wav', 'JE_sa04.wav', 'DC_d14.wav', 'JE_sa10.wav', 'JK_h02.wav', 'DC_f02.wav', 'KL_a03.wav', 'KL_a02.wav', 'DC_f03.wav', 'JK_h03.wav', 'DC_d15.wav', 'JE_sa11.wav', 'JE_sa05.wav', 'DC_d01.wav', 'JK_n11.wav', 'JK_n05.wav', 'JE_a01.wav', 'JE_a15.wav', 'DC_n22.wav', 'DC_su04.wav', 'DC_su10.wav']\n"
     ]
    }
   ],
   "source": [
    "print(savee)"
   ]
  },
  {
   "cell_type": "code",
   "execution_count": 11,
   "id": "fd3fea22-8939-457b-a360-aeceef6efd36",
   "metadata": {},
   "outputs": [
    {
     "name": "stdout",
     "output_type": "stream",
     "text": [
      "480\n"
     ]
    }
   ],
   "source": [
    "emotion = []\n",
    "for wav in savee:\n",
    "    w = wav.split('_')[1]\n",
    "    if w[0:2] == 'sa':\n",
    "        emotion.append('sad')\n",
    "    elif w[0] == 'n':\n",
    "        emotion.append('neutral')\n",
    "    elif w[0:2] == 'su':\n",
    "        emotion.append('surprised')\n",
    "    elif w[0] == 'f':\n",
    "        emotion.append('fear')\n",
    "    elif w[0] == 'd':\n",
    "        emotion.append('disgust')\n",
    "    elif w[0] == 'h':\n",
    "        emotion.append('happy')\n",
    "    elif w[0] =='a':\n",
    "        emotion.append('anger')\n",
    "print(len(emotion))"
   ]
  },
  {
   "cell_type": "code",
   "execution_count": 12,
   "id": "4986b663-0bf8-464a-947c-5021ad04a011",
   "metadata": {},
   "outputs": [
    {
     "data": {
      "text/html": [
       "<div>\n",
       "<style scoped>\n",
       "    .dataframe tbody tr th:only-of-type {\n",
       "        vertical-align: middle;\n",
       "    }\n",
       "\n",
       "    .dataframe tbody tr th {\n",
       "        vertical-align: top;\n",
       "    }\n",
       "\n",
       "    .dataframe thead th {\n",
       "        text-align: right;\n",
       "    }\n",
       "</style>\n",
       "<table border=\"1\" class=\"dataframe\">\n",
       "  <thead>\n",
       "    <tr style=\"text-align: right;\">\n",
       "      <th></th>\n",
       "      <th>Emotions</th>\n",
       "      <th>Path</th>\n",
       "    </tr>\n",
       "  </thead>\n",
       "  <tbody>\n",
       "    <tr>\n",
       "      <th>0</th>\n",
       "      <td>sad</td>\n",
       "      <td>JK_sa01.wav</td>\n",
       "    </tr>\n",
       "    <tr>\n",
       "      <th>1</th>\n",
       "      <td>sad</td>\n",
       "      <td>JK_sa15.wav</td>\n",
       "    </tr>\n",
       "    <tr>\n",
       "      <th>2</th>\n",
       "      <td>neutral</td>\n",
       "      <td>DC_n13.wav</td>\n",
       "    </tr>\n",
       "    <tr>\n",
       "      <th>3</th>\n",
       "      <td>surprised</td>\n",
       "      <td>DC_su09.wav</td>\n",
       "    </tr>\n",
       "    <tr>\n",
       "      <th>4</th>\n",
       "      <td>neutral</td>\n",
       "      <td>DC_n07.wav</td>\n",
       "    </tr>\n",
       "  </tbody>\n",
       "</table>\n",
       "</div>"
      ],
      "text/plain": [
       "    Emotions         Path\n",
       "0        sad  JK_sa01.wav\n",
       "1        sad  JK_sa15.wav\n",
       "2    neutral   DC_n13.wav\n",
       "3  surprised  DC_su09.wav\n",
       "4    neutral   DC_n07.wav"
      ]
     },
     "execution_count": 12,
     "metadata": {},
     "output_type": "execute_result"
    }
   ],
   "source": [
    "emotion_df = pd.DataFrame(emotion, columns=['Emotions'])\n",
    "path_df = pd.DataFrame(savee, columns=['Path'])\n",
    "savee_df = pd.concat([emotion_df, path_df], axis = 1)\n",
    "savee_df.head()"
   ]
  },
  {
   "cell_type": "code",
   "execution_count": 21,
   "id": "103fc874-710e-4684-bf01-2c6d5282104c",
   "metadata": {},
   "outputs": [
    {
     "data": {
      "text/plain": [
       "<Axes: >"
      ]
     },
     "execution_count": 21,
     "metadata": {},
     "output_type": "execute_result"
    },
    {
     "data": {
      "image/png": "[encoded data removed]",
      "text/plain": [
       "<Figure size 640x480 with 1 Axes>"
      ]
     },
     "metadata": {},
     "output_type": "display_data"
    }
   ],
   "source": [
    "savee_df['Emotions'].hist(bins=14)"
   ]
  },
  {
   "cell_type": "code",
   "execution_count": 22,
   "id": "af3ac2fd-3e34-4342-b4bf-83f20e92ef66",
   "metadata": {},
   "outputs": [
    {
     "ename": "ModuleNotFoundError",
     "evalue": "No module named 'librosa'",
     "output_type": "error",
     "traceback": [
      "\u001b[0;31m---------------------------------------------------------------------------\u001b[0m",
      "\u001b[0;31mModuleNotFoundError\u001b[0m                       Traceback (most recent call last)",
      "Cell \u001b[0;32mIn[22], line 1\u001b[0m\n\u001b[0;32m----> 1\u001b[0m \u001b[38;5;28;01mimport\u001b[39;00m \u001b[38;5;21;01mlibrosa\u001b[39;00m\n\u001b[1;32m      2\u001b[0m \u001b[38;5;28;01mimport\u001b[39;00m \u001b[38;5;21;01mlibrosa\u001b[39;00m\u001b[38;5;21;01m.\u001b[39;00m\u001b[38;5;21;01mdisplay\u001b[39;00m\n\u001b[1;32m      3\u001b[0m \u001b[38;5;28;01mfrom\u001b[39;00m \u001b[38;5;21;01mIPython\u001b[39;00m\u001b[38;5;21;01m.\u001b[39;00m\u001b[38;5;21;01mdisplay\u001b[39;00m \u001b[38;5;28;01mimport\u001b[39;00m Audio\n",
      "\u001b[0;31mModuleNotFoundError\u001b[0m: No module named 'librosa'"
     ]
    }
   ],
   "source": [
    "import librosa\n",
    "import librosa.display\n",
    "from IPython.display import Audio\n",
    "\n",
    "path = np.array(Savee_df.Path)[1]\n",
    "data, sample_rate = librosa.load(path)\n",
    "\n",
    "plt.figure(figsize=(14,4))\n",
    "librosa.display.waveshow(y=data, sr=sample_rate)\n",
    "Audio(path)"
   ]
  },
  {
   "cell_type": "code",
   "execution_count": 23,
   "id": "17e3b094-8331-4eee-8253-9a465b23a972",
   "metadata": {},
   "outputs": [
    {
     "name": "stdout",
     "output_type": "stream",
     "text": [
      "zsh:1: command not found: pip\n"
     ]
    }
   ],
   "source": [
    "!pip install librosa"
   ]
  },
  {
   "cell_type": "code",
   "execution_count": null,
   "id": "529c4458-3b00-4257-a8fb-af040d9a7989",
   "metadata": {},
   "outputs": [],
   "source": []
  }
 ],
 "metadata": {
  "kernelspec": {
   "display_name": "Python 3 (ipykernel)",
   "language": "python",
   "name": "python3"
  },
  "language_info": {
   "codemirror_mode": {
    "name": "ipython",
    "version": 3
   },
   "file_extension": ".py",
   "mimetype": "text/x-python",
   "name": "python",
   "nbconvert_exporter": "python",
   "pygments_lexer": "ipython3",
   "version": "3.13.0"
  }
 },
 "nbformat": 4,
 "nbformat_minor": 5
}
