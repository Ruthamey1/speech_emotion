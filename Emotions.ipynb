{
 "cells": [
  {
   "cell_type": "code",
   "execution_count": 196,
   "id": "c89d78ed-76cf-440e-8036-4a25ffb0fef5",
   "metadata": {},
   "outputs": [],
   "source": [
    "import numpy as np\n",
    "import pandas as pd\n",
    "import os\n",
    "import matplotlib.pyplot as plt\n",
    "import seaborn as sns\n",
    "import audioflux as af\n",
    "from scipy.io import wavfile\n",
    "import sounddevice as sd\n",
    "import librosa\n",
    "import librosa.display\n",
    "from sklearn.model_selection import train_test_split\n",
    "import cv2\n",
    "from sklearn.neighbors import KNeighborsClassifier\n",
    "from sklearn import metrics\n",
    "\n"
   ]
  },
  {
   "cell_type": "code",
   "execution_count": 197,
   "id": "4d755eed-a254-44ea-abcb-964d569f51cc",
   "metadata": {},
   "outputs": [],
   "source": [
    "savee = os.listdir('savee_dataset')\n",
    "crema_d = os.listdir('crema_d_dataset')\n",
    "ravdess = os.listdir('ravdess_dataset')\n",
    "tess = os.listdir('TESS')"
   ]
  },
  {
   "cell_type": "code",
   "execution_count": 198,
   "id": "71723406-69fe-41b5-b688-a9f5b287db33",
   "metadata": {},
   "outputs": [
    {
     "name": "stdout",
     "output_type": "stream",
     "text": [
      "480\n"
     ]
    }
   ],
   "source": [
    "emotion = []\n",
    "for wav in savee:\n",
    "    w = wav.split('_')[1]\n",
    "    if w[0:2] == 'sa':\n",
    "        emotion.append('male_sad')\n",
    "    elif w[0] == 'n':\n",
    "        emotion.append('male_neutral')\n",
    "    elif w[0:2] == 'su':\n",
    "        emotion.append('male_surprised')\n",
    "    elif w[0] == 'f':\n",
    "        emotion.append('male_fear')\n",
    "    elif w[0] == 'd':\n",
    "        emotion.append('male_disgust')\n",
    "    elif w[0] == 'h':\n",
    "        emotion.append('male_happy')\n",
    "    elif w[0] =='a':\n",
    "        emotion.append('male_anger')\n",
    "print(len(emotion))"
   ]
  },
  {
   "cell_type": "code",
   "execution_count": 199,
   "id": "1d17fe80-686d-4ba8-a8ca-93a969ebd85b",
   "metadata": {},
   "outputs": [
    {
     "data": {
      "text/html": [
       "<div>\n",
       "<style scoped>\n",
       "    .dataframe tbody tr th:only-of-type {\n",
       "        vertical-align: middle;\n",
       "    }\n",
       "\n",
       "    .dataframe tbody tr th {\n",
       "        vertical-align: top;\n",
       "    }\n",
       "\n",
       "    .dataframe thead th {\n",
       "        text-align: right;\n",
       "    }\n",
       "</style>\n",
       "<table border=\"1\" class=\"dataframe\">\n",
       "  <thead>\n",
       "    <tr style=\"text-align: right;\">\n",
       "      <th></th>\n",
       "      <th>Emotions</th>\n",
       "      <th>Path</th>\n",
       "      <th>folder</th>\n",
       "    </tr>\n",
       "  </thead>\n",
       "  <tbody>\n",
       "    <tr>\n",
       "      <th>0</th>\n",
       "      <td>male_sad</td>\n",
       "      <td>JK_sa01.wav</td>\n",
       "      <td>savee_dataset/</td>\n",
       "    </tr>\n",
       "    <tr>\n",
       "      <th>1</th>\n",
       "      <td>male_sad</td>\n",
       "      <td>JK_sa15.wav</td>\n",
       "      <td>savee_dataset/</td>\n",
       "    </tr>\n",
       "    <tr>\n",
       "      <th>2</th>\n",
       "      <td>male_neutral</td>\n",
       "      <td>DC_n13.wav</td>\n",
       "      <td>savee_dataset/</td>\n",
       "    </tr>\n",
       "    <tr>\n",
       "      <th>3</th>\n",
       "      <td>male_surprised</td>\n",
       "      <td>DC_su09.wav</td>\n",
       "      <td>savee_dataset/</td>\n",
       "    </tr>\n",
       "    <tr>\n",
       "      <th>4</th>\n",
       "      <td>male_neutral</td>\n",
       "      <td>DC_n07.wav</td>\n",
       "      <td>savee_dataset/</td>\n",
       "    </tr>\n",
       "    <tr>\n",
       "      <th>5</th>\n",
       "      <td>male_neutral</td>\n",
       "      <td>JK_n20.wav</td>\n",
       "      <td>savee_dataset/</td>\n",
       "    </tr>\n",
       "    <tr>\n",
       "      <th>6</th>\n",
       "      <td>male_neutral</td>\n",
       "      <td>JK_n08.wav</td>\n",
       "      <td>savee_dataset/</td>\n",
       "    </tr>\n",
       "    <tr>\n",
       "      <th>7</th>\n",
       "      <td>male_sad</td>\n",
       "      <td>JE_sa08.wav</td>\n",
       "      <td>savee_dataset/</td>\n",
       "    </tr>\n",
       "    <tr>\n",
       "      <th>8</th>\n",
       "      <td>male_fear</td>\n",
       "      <td>JK_f15.wav</td>\n",
       "      <td>savee_dataset/</td>\n",
       "    </tr>\n",
       "    <tr>\n",
       "      <th>9</th>\n",
       "      <td>male_fear</td>\n",
       "      <td>JK_f01.wav</td>\n",
       "      <td>savee_dataset/</td>\n",
       "    </tr>\n",
       "  </tbody>\n",
       "</table>\n",
       "</div>"
      ],
      "text/plain": [
       "         Emotions         Path          folder\n",
       "0        male_sad  JK_sa01.wav  savee_dataset/\n",
       "1        male_sad  JK_sa15.wav  savee_dataset/\n",
       "2    male_neutral   DC_n13.wav  savee_dataset/\n",
       "3  male_surprised  DC_su09.wav  savee_dataset/\n",
       "4    male_neutral   DC_n07.wav  savee_dataset/\n",
       "5    male_neutral   JK_n20.wav  savee_dataset/\n",
       "6    male_neutral   JK_n08.wav  savee_dataset/\n",
       "7        male_sad  JE_sa08.wav  savee_dataset/\n",
       "8       male_fear   JK_f15.wav  savee_dataset/\n",
       "9       male_fear   JK_f01.wav  savee_dataset/"
      ]
     },
     "execution_count": 199,
     "metadata": {},
     "output_type": "execute_result"
    }
   ],
   "source": [
    "emotion_df = pd.DataFrame(emotion, columns=['Emotions'])\n",
    "path_df = pd.DataFrame(savee, columns=['Path'])\n",
    "savee_df = pd.concat([emotion_df, path_df], axis = 1)\n",
    "savee_df['folder'] = 'savee_dataset/'\n",
    "savee_df.head(10)"
   ]
  },
  {
   "cell_type": "code",
   "execution_count": 200,
   "id": "332d729e-43d4-4091-b04e-ae24f068e4c7",
   "metadata": {},
   "outputs": [],
   "source": [
    "tess.remove('.DS_Store')"
   ]
  },
  {
   "cell_type": "code",
   "execution_count": 201,
   "id": "ca6d7ccc-c092-4c53-b2dd-40760fa9ec70",
   "metadata": {},
   "outputs": [],
   "source": [
    "emotion=[]\n",
    "tess_wavs=[]\n",
    "for folder in tess:\n",
    "    fname=os.listdir('TESS/' + folder)\n",
    "    for files in fname:\n",
    "        tess_wavs.append(f'{folder}/{files}')\n",
    "        if folder == 'OAF_Sad' or folder == 'YAF_sad':\n",
    "            emotion.append('female_sad')\n",
    "        elif folder == 'OAF_neutral' or folder == 'YAF_neutral':\n",
    "            emotion.append('female_neutral')\n",
    "        elif folder == 'OAF_Pleasant_surprise' or folder == 'YAF_pleasant_surprised':\n",
    "            emotion.append('female_surprised')\n",
    "        elif folder == 'OAF_Fear' or folder == 'YAF_fear':\n",
    "            emotion.append('female_fear')\n",
    "        elif folder == 'OAF_disgust' or folder == 'YAF_disgust':\n",
    "            emotion.append('female_disgust')\n",
    "        elif folder == 'OAF_happy' or folder == 'YAF_happy':\n",
    "            emotion.append('female_happy')\n",
    "        elif folder =='OAF_angry' or folder == 'YAF_angry':\n",
    "            emotion.append('female_anger')"
   ]
  },
  {
   "cell_type": "code",
   "execution_count": 202,
   "id": "7d6248f9-adfb-48eb-ae89-61e5aa69d25b",
   "metadata": {},
   "outputs": [],
   "source": [
    "emotion_df = pd.DataFrame(emotion, columns=['Emotions'])\n",
    "path_df = pd.DataFrame(tess_wavs, columns=['Path'])\n",
    "tess_df = pd.concat([emotion_df, path_df], axis = 1)\n",
    "tess_df['folder'] = 'TESS/'"
   ]
  },
  {
   "cell_type": "code",
   "execution_count": 203,
   "id": "f69e2849-0ad4-4700-b5b2-f78840902baa",
   "metadata": {},
   "outputs": [
    {
     "name": "stdout",
     "output_type": "stream",
     "text": [
      "12\n"
     ]
    }
   ],
   "source": [
    "samples=[]\n",
    "for i in crema_d:\n",
    "    samples.append(i[5:8])\n",
    "\n",
    "samples = set(samples)\n",
    "print(len(samples))"
   ]
  },
  {
   "cell_type": "code",
   "execution_count": 204,
   "id": "3038f1b6-eac4-41ab-a1af-e85a6600e874",
   "metadata": {},
   "outputs": [
    {
     "name": "stdout",
     "output_type": "stream",
     "text": [
      "7442\n"
     ]
    }
   ],
   "source": [
    "emotion = []\n",
    "female = [1002,1003,1004,1006,1007,1008,1009,1010,1012,1013,1018,1020,1021,1024,1025,1028,1029,1030,1037,1043,\n",
    "          1046,1047,1049,1052,1053,1054,1055,1056,1058,1060,1061,1063,1072,1073,1074,1075,1076,1078,1079,1082,\n",
    "          1084,1089,1091]\n",
    "for wav in crema_d:\n",
    "    w = wav.split('_')\n",
    "    if int(w[0]) in female:\n",
    "        if w[2] == 'SAD':\n",
    "            emotion.append('female_sad')\n",
    "        elif w[2] == 'NEU':\n",
    "            emotion.append('female_neutral')\n",
    "        elif w[2] == 'SUR':\n",
    "            emotion.append('female_surprised')\n",
    "        elif w[2] == 'FEA':\n",
    "            emotion.append('female_fear')\n",
    "        elif w[2] == 'DIS':\n",
    "            emotion.append('female_disgust')\n",
    "        elif w[2] == 'HAP':\n",
    "            emotion.append('female_happy')\n",
    "        elif w[2] =='ANG':\n",
    "            emotion.append('female_anger')\n",
    "    else:\n",
    "        if w[2] == 'SAD':\n",
    "            emotion.append('male_sad')\n",
    "        elif w[2] == 'NEU':\n",
    "            emotion.append('male_neutral')\n",
    "        elif w[2] == 'SUR':\n",
    "            emotion.append('male_surprised')\n",
    "        elif w[2] == 'FEA':\n",
    "            emotion.append('male_fear')\n",
    "        elif w[2] == 'DIS':\n",
    "            emotion.append('male_disgust')\n",
    "        elif w[2] == 'HAP':\n",
    "            emotion.append('male_happy')\n",
    "        elif w[2] =='ANG':\n",
    "            emotion.append('male_anger')\n",
    "print(len(emotion))"
   ]
  },
  {
   "cell_type": "code",
   "execution_count": 205,
   "id": "38f6524c-a274-4cc4-9074-5a71bfcb0482",
   "metadata": {},
   "outputs": [],
   "source": [
    "emotion_df = pd.DataFrame(emotion, columns=['Emotions'])\n",
    "path_df = pd.DataFrame(crema_d, columns=['Path'])\n",
    "crema_d_df = pd.concat([emotion_df, path_df], axis = 1)\n",
    "crema_d_df['folder'] = 'crema_d_dataset/'"
   ]
  },
  {
   "cell_type": "code",
   "execution_count": 206,
   "id": "53164666-c55f-4dc8-a32f-b98417bd6662",
   "metadata": {},
   "outputs": [
    {
     "data": {
      "text/plain": [
       "Emotions\n",
       "male_anger        671\n",
       "male_disgust      671\n",
       "male_sad          671\n",
       "male_happy        671\n",
       "male_fear         671\n",
       "female_anger      600\n",
       "female_disgust    600\n",
       "female_sad        600\n",
       "female_fear       600\n",
       "female_happy      600\n",
       "male_neutral      575\n",
       "female_neutral    512\n",
       "Name: count, dtype: int64"
      ]
     },
     "execution_count": 206,
     "metadata": {},
     "output_type": "execute_result"
    }
   ],
   "source": [
    "crema_d_df['Emotions'].value_counts()"
   ]
  },
  {
   "cell_type": "code",
   "execution_count": 207,
   "id": "6d6743dd-e964-494a-b689-9da546bdbd7b",
   "metadata": {},
   "outputs": [],
   "source": [
    "ravdess.remove('.DS_Store')"
   ]
  },
  {
   "cell_type": "code",
   "execution_count": 208,
   "id": "fc665883-a3bb-48bc-9625-98d46e52ea3d",
   "metadata": {},
   "outputs": [
    {
     "name": "stdout",
     "output_type": "stream",
     "text": [
      "1440\n"
     ]
    }
   ],
   "source": [
    "emotion = []\n",
    "ravdess_wavs = []\n",
    "for actor in ravdess:\n",
    "    wavs = os.listdir(f'ravdess_dataset/{actor}')\n",
    "    for wav in wavs:\n",
    "        ravdess_wavs.append(f'{actor}/{wav}')\n",
    "        if int(wav[18:20])%2==0:\n",
    "            if wav[7:8] == '4':\n",
    "                emotion.append('female_sad')\n",
    "            elif wav[7:8] == '1':\n",
    "                emotion.append('female_neutral')\n",
    "            elif wav[7:8] == '8':\n",
    "                emotion.append('female_surprised')\n",
    "            elif wav[7:8] == '6':\n",
    "                emotion.append('female_fear')\n",
    "            elif wav[7:8] == '7':\n",
    "                emotion.append('female_disgust')\n",
    "            elif wav[7:8] == '3':\n",
    "                emotion.append('female_happy')\n",
    "            elif wav[7:8] =='5':\n",
    "                emotion.append('female_anger')\n",
    "            elif wav[7:8] =='2':\n",
    "                emotion.append('female_neutral')\n",
    "        else:\n",
    "            if wav[7:8] == '4':\n",
    "                emotion.append('male_sad')\n",
    "            elif wav[7:8] == '1':\n",
    "                emotion.append('male_neutral')\n",
    "            elif wav[7:8] == '8':\n",
    "                emotion.append('male_surprised')\n",
    "            elif wav[7:8] == '6':\n",
    "                emotion.append('male_fear')\n",
    "            elif wav[7:8] == '7':\n",
    "                emotion.append('male_disgust')\n",
    "            elif wav[7:8] == '3':\n",
    "                emotion.append('male_happy')\n",
    "            elif wav[7:8] =='5':\n",
    "                emotion.append('male_anger')\n",
    "            elif wav[7:8] =='2':\n",
    "                emotion.append('male_neutral')\n",
    "        \n",
    "print(len(emotion))"
   ]
  },
  {
   "cell_type": "code",
   "execution_count": 209,
   "id": "4275149c-6c11-466a-932f-5ec669dcbbb2",
   "metadata": {},
   "outputs": [],
   "source": [
    "emotion_df = pd.DataFrame(emotion, columns=['Emotions'])\n",
    "path_df = pd.DataFrame(ravdess_wavs, columns=['Path'])\n",
    "ravdess_df = pd.concat([emotion_df, path_df], axis = 1)\n",
    "ravdess_df['folder'] = 'ravdess_dataset/'"
   ]
  },
  {
   "cell_type": "code",
   "execution_count": 210,
   "id": "a8e0c0d8-fa27-4a52-b4cc-4144ca78f854",
   "metadata": {},
   "outputs": [],
   "source": [
    "ravdess_df = ravdess_df[ravdess_df['Emotions'] != 'disgust']\n",
    "#ravdess_df = ravdess_df[ravdess_df['Emotions'] != 'surprised']\n",
    "ravdess_df = ravdess_df.reset_index(drop=True)"
   ]
  },
  {
   "cell_type": "code",
   "execution_count": 211,
   "id": "7c8eb34e-d2f2-4044-a60e-1fbb942ae523",
   "metadata": {},
   "outputs": [],
   "source": [
    "#data = pd.concat([savee_df, tess_df, ravdess_df, crema_d_df], axis=0)\n",
    "data=ravdess_df\n",
    "data = data.reset_index(drop=True)"
   ]
  },
  {
   "cell_type": "code",
   "execution_count": 212,
   "id": "0fc9e649-08c2-4d66-a8d6-351d711dc37f",
   "metadata": {},
   "outputs": [
    {
     "data": {
      "text/html": [
       "<div>\n",
       "<style scoped>\n",
       "    .dataframe tbody tr th:only-of-type {\n",
       "        vertical-align: middle;\n",
       "    }\n",
       "\n",
       "    .dataframe tbody tr th {\n",
       "        vertical-align: top;\n",
       "    }\n",
       "\n",
       "    .dataframe thead th {\n",
       "        text-align: right;\n",
       "    }\n",
       "</style>\n",
       "<table border=\"1\" class=\"dataframe\">\n",
       "  <thead>\n",
       "    <tr style=\"text-align: right;\">\n",
       "      <th></th>\n",
       "      <th>Emotions</th>\n",
       "      <th>Path</th>\n",
       "      <th>folder</th>\n",
       "    </tr>\n",
       "  </thead>\n",
       "  <tbody>\n",
       "    <tr>\n",
       "      <th>0</th>\n",
       "      <td>female_anger</td>\n",
       "      <td>Actor_16/03-01-05-01-02-01-16.wav</td>\n",
       "      <td>ravdess_dataset/</td>\n",
       "    </tr>\n",
       "    <tr>\n",
       "      <th>1</th>\n",
       "      <td>female_fear</td>\n",
       "      <td>Actor_16/03-01-06-01-02-02-16.wav</td>\n",
       "      <td>ravdess_dataset/</td>\n",
       "    </tr>\n",
       "    <tr>\n",
       "      <th>2</th>\n",
       "      <td>female_fear</td>\n",
       "      <td>Actor_16/03-01-06-02-01-02-16.wav</td>\n",
       "      <td>ravdess_dataset/</td>\n",
       "    </tr>\n",
       "    <tr>\n",
       "      <th>3</th>\n",
       "      <td>female_anger</td>\n",
       "      <td>Actor_16/03-01-05-02-01-01-16.wav</td>\n",
       "      <td>ravdess_dataset/</td>\n",
       "    </tr>\n",
       "    <tr>\n",
       "      <th>4</th>\n",
       "      <td>female_disgust</td>\n",
       "      <td>Actor_16/03-01-07-01-01-01-16.wav</td>\n",
       "      <td>ravdess_dataset/</td>\n",
       "    </tr>\n",
       "  </tbody>\n",
       "</table>\n",
       "</div>"
      ],
      "text/plain": [
       "         Emotions                               Path            folder\n",
       "0    female_anger  Actor_16/03-01-05-01-02-01-16.wav  ravdess_dataset/\n",
       "1     female_fear  Actor_16/03-01-06-01-02-02-16.wav  ravdess_dataset/\n",
       "2     female_fear  Actor_16/03-01-06-02-01-02-16.wav  ravdess_dataset/\n",
       "3    female_anger  Actor_16/03-01-05-02-01-01-16.wav  ravdess_dataset/\n",
       "4  female_disgust  Actor_16/03-01-07-01-01-01-16.wav  ravdess_dataset/"
      ]
     },
     "execution_count": 212,
     "metadata": {},
     "output_type": "execute_result"
    }
   ],
   "source": [
    "data.head()"
   ]
  },
  {
   "cell_type": "code",
   "execution_count": 213,
   "id": "0e42a885-8895-4762-962d-a2ef9b588d36",
   "metadata": {},
   "outputs": [
    {
     "data": {
      "text/plain": [
       "Emotions\n",
       "female_neutral      144\n",
       "male_neutral        144\n",
       "female_anger         96\n",
       "female_fear          96\n",
       "female_disgust       96\n",
       "female_sad           96\n",
       "female_surprised     96\n",
       "female_happy         96\n",
       "male_happy           96\n",
       "male_sad             96\n",
       "male_disgust         96\n",
       "male_fear            96\n",
       "male_anger           96\n",
       "male_surprised       96\n",
       "Name: count, dtype: int64"
      ]
     },
     "execution_count": 213,
     "metadata": {},
     "output_type": "execute_result"
    }
   ],
   "source": [
    "data['Emotions'].value_counts()"
   ]
  },
  {
   "cell_type": "code",
   "execution_count": 214,
   "id": "0b43e34b-8075-4a9e-975a-51666b902f46",
   "metadata": {},
   "outputs": [],
   "source": [
    "data = data[data['Emotions'] != 'female_disgust']\n",
    "data = data[data['Emotions'] != 'male_disgust']\n",
    "data = data[data['Emotions'] != 'female_surprised']\n",
    "data = data[data['Emotions'] != 'male_surprised']\n",
    "data = data.reset_index(drop=True)"
   ]
  },
  {
   "cell_type": "code",
   "execution_count": 215,
   "id": "da7a7578-4c6e-4042-9330-e526e46cec01",
   "metadata": {},
   "outputs": [],
   "source": [
    "from sklearn.utils import shuffle\n",
    "\n",
    "data = shuffle(data).reset_index(drop=True)"
   ]
  },
  {
   "cell_type": "code",
   "execution_count": null,
   "id": "7cb87557-ed1b-4235-9a57-55c6e171b49f",
   "metadata": {},
   "outputs": [],
   "source": [
    "data"
   ]
  },
  {
   "cell_type": "code",
   "execution_count": null,
   "id": "f957dda0-3c28-43de-803c-421f0667a473",
   "metadata": {},
   "outputs": [],
   "source": [
    "data1,sr=librosa.load(path)\n",
    "zcr=librosa.feature.zero_crossing_rate(data1)\n",
    "zcr"
   ]
  },
  {
   "cell_type": "code",
   "execution_count": 216,
   "id": "a701c413-3702-4459-a54d-58fd67c33356",
   "metadata": {},
   "outputs": [],
   "source": [
    "def noise(data):\n",
    "    noise_amp = 0.035*np.random.uniform()*np.amax(data)\n",
    "    data = data + noise_amp*np.random.normal(size=data.shape[0])\n",
    "    return data\n",
    "\n",
    "def pitch(data):\n",
    "    return librosa.effects.pitch_shift(data, sr=22050, n_steps=0.7)"
   ]
  },
  {
   "cell_type": "code",
   "execution_count": 232,
   "id": "2c54c0a2-f26f-4028-bcfc-dbe4d1d49371",
   "metadata": {},
   "outputs": [],
   "source": [
    "def zcr(data):\n",
    "    zcr=librosa.feature.zero_crossing_rate(data)\n",
    "    #zcr=(zcr-np.mean(zcr))/np.std(zcr)\n",
    "    return np.squeeze(zcr)\n",
    "\n",
    "def rmse(data):\n",
    "    rmse=librosa.feature.rms(y=data)\n",
    "    #rmse=(rmse-np.mean(rmse))/np.std(rmse)\n",
    "    return np.squeeze(rmse)\n",
    "\n",
    "def mfcc(data, flatten:bool=True):\n",
    "    mfcc = librosa.feature.mfcc(y=data)\n",
    "    #mfcc=(mfcc-np.mean(mfcc))/np.std(mfcc)\n",
    "    return np.squeeze(mfcc.T) if not flatten else np.ravel(mfcc.T)\n",
    "\n",
    "def chroma(data, flatten:bool=True):\n",
    "    chroma = librosa.feature.chroma_stft(y=data)\n",
    "    #chroma=(chroma-np.mean(chroma))/np.std(chroma)\n",
    "    return np.squeeze(chroma.T) if not flatten else np.ravel(chroma.T)\n",
    "\n",
    "def extract_features(data):\n",
    "    result=np.array([])\n",
    "    result=np.hstack((result, zcr(data), rmse(data), mfcc(data), chroma(data)))\n",
    "    return result\n",
    "\n",
    "def get_features(path):\n",
    "    data,sr=librosa.load(path)    \n",
    "    aud = extract_features(data)\n",
    "    audio = np.array(aud)\n",
    "\n",
    "    noise_audio=noise(data)\n",
    "    naud = extract_features(noise_audio)\n",
    "    audio=np.vstack((audio,naud))\n",
    "\n",
    "    pitched_audio=pitch(data)\n",
    "    paud = extract_features(pitched_audio)\n",
    "    audio=np.vstack((audio,paud))\n",
    "\n",
    "    pna=noise(pitched_audio)\n",
    "    pnaud=extract_features(pna)\n",
    "    audio=np.vstack((audio, pnaud))\n",
    "    \n",
    "    return audio"
   ]
  },
  {
   "cell_type": "code",
   "execution_count": 233,
   "id": "1a982aa3-7e67-479d-8578-e2874cb2d947",
   "metadata": {},
   "outputs": [],
   "source": [
    "X=[]\n",
    "Y=[]\n",
    "for path,folder,emotion in (zip(data.Path,data.folder,data.Emotions)):\n",
    "    path = folder+path\n",
    "    features=get_features(path)\n",
    "    for feature in features:\n",
    "        X.append(feature)\n",
    "        Y.append(emotion)"
   ]
  },
  {
   "cell_type": "code",
   "execution_count": 234,
   "id": "3c5ae152-f936-4659-8fba-f60109dee2c4",
   "metadata": {},
   "outputs": [
    {
     "data": {
      "text/html": [
       "<div>\n",
       "<style scoped>\n",
       "    .dataframe tbody tr th:only-of-type {\n",
       "        vertical-align: middle;\n",
       "    }\n",
       "\n",
       "    .dataframe tbody tr th {\n",
       "        vertical-align: top;\n",
       "    }\n",
       "\n",
       "    .dataframe thead th {\n",
       "        text-align: right;\n",
       "    }\n",
       "</style>\n",
       "<table border=\"1\" class=\"dataframe\">\n",
       "  <thead>\n",
       "    <tr style=\"text-align: right;\">\n",
       "      <th></th>\n",
       "      <th>0</th>\n",
       "      <th>1</th>\n",
       "      <th>2</th>\n",
       "      <th>3</th>\n",
       "      <th>4</th>\n",
       "      <th>5</th>\n",
       "      <th>6</th>\n",
       "      <th>7</th>\n",
       "      <th>8</th>\n",
       "      <th>9</th>\n",
       "      <th>...</th>\n",
       "      <th>7471</th>\n",
       "      <th>7472</th>\n",
       "      <th>7473</th>\n",
       "      <th>7474</th>\n",
       "      <th>7475</th>\n",
       "      <th>7476</th>\n",
       "      <th>7477</th>\n",
       "      <th>7478</th>\n",
       "      <th>7479</th>\n",
       "      <th>Emotions</th>\n",
       "    </tr>\n",
       "  </thead>\n",
       "  <tbody>\n",
       "    <tr>\n",
       "      <th>0</th>\n",
       "      <td>0.022461</td>\n",
       "      <td>0.022461</td>\n",
       "      <td>0.100586</td>\n",
       "      <td>0.245117</td>\n",
       "      <td>0.350098</td>\n",
       "      <td>0.437988</td>\n",
       "      <td>0.359375</td>\n",
       "      <td>0.192383</td>\n",
       "      <td>0.087891</td>\n",
       "      <td>0.000000</td>\n",
       "      <td>...</td>\n",
       "      <td>NaN</td>\n",
       "      <td>NaN</td>\n",
       "      <td>NaN</td>\n",
       "      <td>NaN</td>\n",
       "      <td>NaN</td>\n",
       "      <td>NaN</td>\n",
       "      <td>NaN</td>\n",
       "      <td>NaN</td>\n",
       "      <td>NaN</td>\n",
       "      <td>male_anger</td>\n",
       "    </tr>\n",
       "    <tr>\n",
       "      <th>1</th>\n",
       "      <td>0.257324</td>\n",
       "      <td>0.383301</td>\n",
       "      <td>0.517090</td>\n",
       "      <td>0.504395</td>\n",
       "      <td>0.507324</td>\n",
       "      <td>0.518555</td>\n",
       "      <td>0.508789</td>\n",
       "      <td>0.515137</td>\n",
       "      <td>0.516602</td>\n",
       "      <td>0.501465</td>\n",
       "      <td>...</td>\n",
       "      <td>NaN</td>\n",
       "      <td>NaN</td>\n",
       "      <td>NaN</td>\n",
       "      <td>NaN</td>\n",
       "      <td>NaN</td>\n",
       "      <td>NaN</td>\n",
       "      <td>NaN</td>\n",
       "      <td>NaN</td>\n",
       "      <td>NaN</td>\n",
       "      <td>male_anger</td>\n",
       "    </tr>\n",
       "    <tr>\n",
       "      <th>2</th>\n",
       "      <td>0.020508</td>\n",
       "      <td>0.022461</td>\n",
       "      <td>0.052734</td>\n",
       "      <td>0.076660</td>\n",
       "      <td>0.090332</td>\n",
       "      <td>0.088379</td>\n",
       "      <td>0.058105</td>\n",
       "      <td>0.013672</td>\n",
       "      <td>0.000000</td>\n",
       "      <td>0.000000</td>\n",
       "      <td>...</td>\n",
       "      <td>NaN</td>\n",
       "      <td>NaN</td>\n",
       "      <td>NaN</td>\n",
       "      <td>NaN</td>\n",
       "      <td>NaN</td>\n",
       "      <td>NaN</td>\n",
       "      <td>NaN</td>\n",
       "      <td>NaN</td>\n",
       "      <td>NaN</td>\n",
       "      <td>male_anger</td>\n",
       "    </tr>\n",
       "    <tr>\n",
       "      <th>3</th>\n",
       "      <td>0.237793</td>\n",
       "      <td>0.365723</td>\n",
       "      <td>0.482910</td>\n",
       "      <td>0.493652</td>\n",
       "      <td>0.498535</td>\n",
       "      <td>0.499512</td>\n",
       "      <td>0.510742</td>\n",
       "      <td>0.515137</td>\n",
       "      <td>0.504883</td>\n",
       "      <td>0.499512</td>\n",
       "      <td>...</td>\n",
       "      <td>NaN</td>\n",
       "      <td>NaN</td>\n",
       "      <td>NaN</td>\n",
       "      <td>NaN</td>\n",
       "      <td>NaN</td>\n",
       "      <td>NaN</td>\n",
       "      <td>NaN</td>\n",
       "      <td>NaN</td>\n",
       "      <td>NaN</td>\n",
       "      <td>male_anger</td>\n",
       "    </tr>\n",
       "    <tr>\n",
       "      <th>4</th>\n",
       "      <td>0.086426</td>\n",
       "      <td>0.182617</td>\n",
       "      <td>0.182617</td>\n",
       "      <td>0.267090</td>\n",
       "      <td>0.283203</td>\n",
       "      <td>0.218750</td>\n",
       "      <td>0.347656</td>\n",
       "      <td>0.339844</td>\n",
       "      <td>0.291992</td>\n",
       "      <td>0.388184</td>\n",
       "      <td>...</td>\n",
       "      <td>NaN</td>\n",
       "      <td>NaN</td>\n",
       "      <td>NaN</td>\n",
       "      <td>NaN</td>\n",
       "      <td>NaN</td>\n",
       "      <td>NaN</td>\n",
       "      <td>NaN</td>\n",
       "      <td>NaN</td>\n",
       "      <td>NaN</td>\n",
       "      <td>female_sad</td>\n",
       "    </tr>\n",
       "  </tbody>\n",
       "</table>\n",
       "<p>5 rows × 7481 columns</p>\n",
       "</div>"
      ],
      "text/plain": [
       "          0         1         2         3         4         5         6  \\\n",
       "0  0.022461  0.022461  0.100586  0.245117  0.350098  0.437988  0.359375   \n",
       "1  0.257324  0.383301  0.517090  0.504395  0.507324  0.518555  0.508789   \n",
       "2  0.020508  0.022461  0.052734  0.076660  0.090332  0.088379  0.058105   \n",
       "3  0.237793  0.365723  0.482910  0.493652  0.498535  0.499512  0.510742   \n",
       "4  0.086426  0.182617  0.182617  0.267090  0.283203  0.218750  0.347656   \n",
       "\n",
       "          7         8         9  ...  7471  7472  7473  7474  7475  7476  \\\n",
       "0  0.192383  0.087891  0.000000  ...   NaN   NaN   NaN   NaN   NaN   NaN   \n",
       "1  0.515137  0.516602  0.501465  ...   NaN   NaN   NaN   NaN   NaN   NaN   \n",
       "2  0.013672  0.000000  0.000000  ...   NaN   NaN   NaN   NaN   NaN   NaN   \n",
       "3  0.515137  0.504883  0.499512  ...   NaN   NaN   NaN   NaN   NaN   NaN   \n",
       "4  0.339844  0.291992  0.388184  ...   NaN   NaN   NaN   NaN   NaN   NaN   \n",
       "\n",
       "   7477  7478  7479    Emotions  \n",
       "0   NaN   NaN   NaN  male_anger  \n",
       "1   NaN   NaN   NaN  male_anger  \n",
       "2   NaN   NaN   NaN  male_anger  \n",
       "3   NaN   NaN   NaN  male_anger  \n",
       "4   NaN   NaN   NaN  female_sad  \n",
       "\n",
       "[5 rows x 7481 columns]"
      ]
     },
     "execution_count": 234,
     "metadata": {},
     "output_type": "execute_result"
    }
   ],
   "source": [
    "Emotions = pd.DataFrame(X)\n",
    "Emotions['Emotions']=Y\n",
    "Emotions.head()"
   ]
  },
  {
   "cell_type": "code",
   "execution_count": 235,
   "id": "e1789354-af7b-4227-b72e-ced224436fa4",
   "metadata": {},
   "outputs": [
    {
     "data": {
      "text/plain": [
       "(4224, 7481)"
      ]
     },
     "execution_count": 235,
     "metadata": {},
     "output_type": "execute_result"
    }
   ],
   "source": [
    "Emotions.shape"
   ]
  },
  {
   "cell_type": "code",
   "execution_count": 236,
   "id": "9d2afb6b-c227-4351-9556-681353b612c7",
   "metadata": {},
   "outputs": [
    {
     "data": {
      "text/plain": [
       "Emotions\n",
       "male_neutral      576\n",
       "female_neutral    576\n",
       "male_anger        384\n",
       "female_sad        384\n",
       "male_happy        384\n",
       "male_fear         384\n",
       "female_happy      384\n",
       "female_fear       384\n",
       "female_anger      384\n",
       "male_sad          384\n",
       "Name: count, dtype: int64"
      ]
     },
     "execution_count": 236,
     "metadata": {},
     "output_type": "execute_result"
    }
   ],
   "source": [
    "Emotions['Emotions'].value_counts()"
   ]
  },
  {
   "cell_type": "code",
   "execution_count": 237,
   "id": "361e9e70-e926-4a9a-990c-4899064127f3",
   "metadata": {},
   "outputs": [
    {
     "data": {
      "text/plain": [
       "0              0\n",
       "1              0\n",
       "2              0\n",
       "3              0\n",
       "4              0\n",
       "            ... \n",
       "7476        4220\n",
       "7477        4220\n",
       "7478        4220\n",
       "7479        4220\n",
       "Emotions       0\n",
       "Length: 7481, dtype: int64"
      ]
     },
     "execution_count": 237,
     "metadata": {},
     "output_type": "execute_result"
    }
   ],
   "source": [
    "Emotions.isna().sum()"
   ]
  },
  {
   "cell_type": "code",
   "execution_count": 238,
   "id": "fbf7a58f-9626-4745-9fd5-a49a19977e4f",
   "metadata": {},
   "outputs": [],
   "source": [
    "Emotions= Emotions.fillna(0)"
   ]
  },
  {
   "cell_type": "code",
   "execution_count": 239,
   "id": "4b454f18-40fc-4401-9b7f-0a10bce8b566",
   "metadata": {},
   "outputs": [],
   "source": [
    "X=Emotions.iloc[:,:-1].values\n",
    "Y=Emotions['Emotions'].values"
   ]
  },
  {
   "cell_type": "code",
   "execution_count": 240,
   "id": "a2906eeb-c3ad-445c-a358-36ea0b3dd822",
   "metadata": {},
   "outputs": [],
   "source": [
    "X_train, X_test, y_train, y_test = train_test_split(X, Y, test_size=0.4, random_state=42)\n",
    "X_val, X_test, y_val, y_test = train_test_split(X_test, y_test, test_size=0.5, random_state=42)"
   ]
  },
  {
   "cell_type": "code",
   "execution_count": 241,
   "id": "4553dea9-f88d-442a-adb0-572a0bc22722",
   "metadata": {},
   "outputs": [
    {
     "name": "stdout",
     "output_type": "stream",
     "text": [
      "[3 2 0 ... 1 6 5]\n"
     ]
    }
   ],
   "source": [
    "from sklearn.preprocessing import LabelEncoder\n",
    "\n",
    "label_encoder = LabelEncoder()\n",
    "y_train=label_encoder.fit_transform(y_train)\n",
    "y_val=label_encoder.transform(y_val)\n",
    "y_test=label_encoder.transform(y_test)\n",
    "print(y_train)"
   ]
  },
  {
   "cell_type": "code",
   "execution_count": 189,
   "id": "7f295cbe-2c41-4d35-8d8c-60856741054c",
   "metadata": {},
   "outputs": [
    {
     "data": {
      "text/plain": [
       "'from sklearn.preprocessing import StandardScaler, MinMaxScaler\\n\\nscaler = StandardScaler()\\nscaler.fit(X_reshaped)\\nX_train = scaler.transform(X_train)\\nX_val = scaler.transform(X_val)\\nX_test = scaler.transform(X_test)'"
      ]
     },
     "execution_count": 189,
     "metadata": {},
     "output_type": "execute_result"
    }
   ],
   "source": [
    "'''from sklearn.preprocessing import StandardScaler, MinMaxScaler\n",
    "\n",
    "scaler = StandardScaler()\n",
    "scaler.fit(X_reshaped)\n",
    "X_train = scaler.transform(X_train)\n",
    "X_val = scaler.transform(X_val)\n",
    "X_test = scaler.transform(X_test)'''"
   ]
  },
  {
   "cell_type": "code",
   "execution_count": 190,
   "id": "e1ad18e2-2415-4988-8aad-d62fce4cbd83",
   "metadata": {},
   "outputs": [
    {
     "name": "stdout",
     "output_type": "stream",
     "text": [
      "(2534, 4840)\n",
      "(845, 4840)\n",
      "(845, 4840)\n"
     ]
    }
   ],
   "source": [
    "print(X_train.shape)\n",
    "print(X_val.shape)\n",
    "print(X_test.shape)"
   ]
  },
  {
   "cell_type": "code",
   "execution_count": 191,
   "id": "3294fcfa-7fd5-4905-9fa2-021e0b51cac3",
   "metadata": {},
   "outputs": [
    {
     "data": {
      "text/plain": [
       "array([[-0.61999662,  0.13007249,  0.86347341, ...,  0.        ,\n",
       "         0.        ,  0.        ],\n",
       "       [ 0.15777912,  1.20546268,  2.12527935, ...,  0.        ,\n",
       "         0.        ,  0.        ],\n",
       "       [ 0.13176828,  1.22772695,  1.92603689, ...,  0.        ,\n",
       "         0.        ,  0.        ],\n",
       "       ...,\n",
       "       [ 0.25846327,  1.05445417,  1.59797219, ...,  0.        ,\n",
       "         0.        ,  0.        ],\n",
       "       [ 0.22736933,  0.84892591,  1.52581394, ...,  0.        ,\n",
       "         0.        ,  0.        ],\n",
       "       [-1.07462954, -1.07462954, -1.07462954, ...,  0.        ,\n",
       "         0.        ,  0.        ]])"
      ]
     },
     "execution_count": 191,
     "metadata": {},
     "output_type": "execute_result"
    }
   ],
   "source": [
    "X_train"
   ]
  },
  {
   "cell_type": "code",
   "execution_count": 173,
   "id": "9988165f-f7e4-4674-9210-e58c6fab98cf",
   "metadata": {},
   "outputs": [
    {
     "data": {
      "text/plain": [
       "'import numpy as np\\nfrom sklearn.decomposition import PCA\\n\\npca = PCA(n_components = 40)\\nX_reshaped = pca.fit_transform(X_reshaped)\\nX_val_reshaped = pca.transform(X_val_reshaped)\\nX_test_reshaped = pca.transform(X_test_reshaped)'"
      ]
     },
     "execution_count": 173,
     "metadata": {},
     "output_type": "execute_result"
    }
   ],
   "source": [
    "'''import numpy as np\n",
    "from sklearn.decomposition import PCA\n",
    "\n",
    "pca = PCA(n_components = 40)\n",
    "X_reshaped = pca.fit_transform(X_reshaped)\n",
    "X_val_reshaped = pca.transform(X_val_reshaped)\n",
    "X_test_reshaped = pca.transform(X_test_reshaped)'''\n"
   ]
  },
  {
   "cell_type": "markdown",
   "id": "5de84e27-7908-47a3-a83a-14dc39595361",
   "metadata": {},
   "source": [
    "0.66"
   ]
  },
  {
   "cell_type": "code",
   "execution_count": 47,
   "id": "9b040b7e-c85e-46ed-a161-2a8fbb1f92c9",
   "metadata": {},
   "outputs": [
    {
     "name": "stdout",
     "output_type": "stream",
     "text": [
      "Accuracy: 0.78\n"
     ]
    }
   ],
   "source": [
    "from xgboost import XGBClassifier\n",
    "from sklearn.metrics import accuracy_score\n",
    "xgb = XGBClassifier(eval_metric='mlogloss')\n",
    "xgb.fit(X_train, y_train)\n",
    "y_pred_xgb = xgb.predict(X_test)\n",
    "y_pred_xgb_decoded = label_encoder.inverse_transform(y_pred_xgb)\n",
    "accuracy = accuracy_score(y_test, y_pred_xgb)\n",
    "print(f'Accuracy: {accuracy:.2f}')"
   ]
  },
  {
   "cell_type": "code",
   "execution_count": 60,
   "id": "79da4017-225b-4d91-a492-e8b12f0108b9",
   "metadata": {},
   "outputs": [
    {
     "name": "stdout",
     "output_type": "stream",
     "text": [
      "1 accuracy 0.7242603550295857\n",
      "2 accuracy 0.7242603550295857\n",
      "3 accuracy 0.659171597633136\n",
      "4 accuracy 0.6284023668639053\n"
     ]
    }
   ],
   "source": [
    "k_list = []\n",
    "scores_list = [] \n",
    " \n",
    "for k in range(1,5):\n",
    "        knn = KNeighborsClassifier(n_neighbors=k, weights=\"distance\", metric=\"euclidean\")\n",
    "        knn.fit(X_train,y_train)\n",
    "        y_pred=knn.predict(np.array(X_test)) \n",
    "        k_list.append(k)\n",
    "        accuracy = metrics.accuracy_score(y_test,y_pred)\n",
    "        print(k, 'accuracy',accuracy)\n",
    "        scores_list.append(metrics.accuracy_score(y_test,y_pred))"
   ]
  },
  {
   "cell_type": "code",
   "execution_count": 61,
   "id": "5af53606-2553-4f3a-a216-ca85e087238d",
   "metadata": {},
   "outputs": [
    {
     "name": "stdout",
     "output_type": "stream",
     "text": [
      "0.714792899408284\n"
     ]
    }
   ],
   "source": [
    "from sklearn.ensemble import RandomForestClassifier\n",
    "from sklearn.metrics import accuracy_score\n",
    "rfc = RandomForestClassifier()\n",
    "rfc.fit(X_train, y_train)\n",
    "y_pred = rfc.predict(X_test)\n",
    "print(accuracy_score(y_test, y_pred))"
   ]
  },
  {
   "cell_type": "code",
   "execution_count": 242,
   "id": "6d1aff93-555f-487e-99d7-48f44f0eafe9",
   "metadata": {},
   "outputs": [],
   "source": [
    "from tensorflow.keras.models import Sequential\n",
    "from tensorflow.keras.layers import Conv2D, MaxPooling2D, Flatten, Dense, Dropout, BatchNormalization, GlobalAveragePooling2D\n",
    "from tensorflow.keras.preprocessing.image import ImageDataGenerator\n",
    "import tensorflow as tf"
   ]
  },
  {
   "cell_type": "code",
   "execution_count": 243,
   "id": "0d78b486-f1db-4600-a7a4-334a1ec44df6",
   "metadata": {},
   "outputs": [
    {
     "data": {
      "text/plain": [
       "((2534, 7480, 1), (2534,), (845, 7480, 1), (845,), (845, 7480, 1), (845,))"
      ]
     },
     "execution_count": 243,
     "metadata": {},
     "output_type": "execute_result"
    }
   ],
   "source": [
    "x_traincnn =np.expand_dims(X_train, axis=2)\n",
    "x_valcnn= np.expand_dims(X_val, axis=2)\n",
    "x_testcnn= np.expand_dims(X_test, axis=2)\n",
    "x_traincnn.shape, y_train.shape, x_valcnn.shape, y_val.shape, x_testcnn.shape, y_test.shape"
   ]
  },
  {
   "cell_type": "code",
   "execution_count": 244,
   "id": "00036ee2-c436-498c-bd4c-7b15d662ff87",
   "metadata": {},
   "outputs": [
    {
     "name": "stderr",
     "output_type": "stream",
     "text": [
      "/Library/Frameworks/Python.framework/Versions/3.12/lib/python3.12/site-packages/keras/src/layers/convolutional/base_conv.py:107: UserWarning: Do not pass an `input_shape`/`input_dim` argument to a layer. When using Sequential models, prefer using an `Input(shape)` object as the first layer in the model instead.\n",
      "  super().__init__(activity_regularizer=activity_regularizer, **kwargs)\n"
     ]
    },
    {
     "data": {
      "text/html": [
       "<pre style=\"white-space:pre;overflow-x:auto;line-height:normal;font-family:Menlo,'DejaVu Sans Mono',consolas,'Courier New',monospace\"><span style=\"font-weight: bold\">Model: \"sequential_12\"</span>\n",
       "</pre>\n"
      ],
      "text/plain": [
       "\u001b[1mModel: \"sequential_12\"\u001b[0m\n"
      ]
     },
     "metadata": {},
     "output_type": "display_data"
    },
    {
     "data": {
      "text/html": [
       "<pre style=\"white-space:pre;overflow-x:auto;line-height:normal;font-family:Menlo,'DejaVu Sans Mono',consolas,'Courier New',monospace\">┏━━━━━━━━━━━━━━━━━━━━━━━━━━━━━━━━━┳━━━━━━━━━━━━━━━━━━━━━━━━┳━━━━━━━━━━━━━━━┓\n",
       "┃<span style=\"font-weight: bold\"> Layer (type)                    </span>┃<span style=\"font-weight: bold\"> Output Shape           </span>┃<span style=\"font-weight: bold\">       Param # </span>┃\n",
       "┡━━━━━━━━━━━━━━━━━━━━━━━━━━━━━━━━━╇━━━━━━━━━━━━━━━━━━━━━━━━╇━━━━━━━━━━━━━━━┩\n",
       "│ conv1d_40 (<span style=\"color: #0087ff; text-decoration-color: #0087ff\">Conv1D</span>)              │ (<span style=\"color: #00d7ff; text-decoration-color: #00d7ff\">None</span>, <span style=\"color: #00af00; text-decoration-color: #00af00\">7480</span>, <span style=\"color: #00af00; text-decoration-color: #00af00\">256</span>)      │         <span style=\"color: #00af00; text-decoration-color: #00af00\">1,536</span> │\n",
       "├─────────────────────────────────┼────────────────────────┼───────────────┤\n",
       "│ batch_normalization_52          │ (<span style=\"color: #00d7ff; text-decoration-color: #00d7ff\">None</span>, <span style=\"color: #00af00; text-decoration-color: #00af00\">7480</span>, <span style=\"color: #00af00; text-decoration-color: #00af00\">256</span>)      │         <span style=\"color: #00af00; text-decoration-color: #00af00\">1,024</span> │\n",
       "│ (<span style=\"color: #0087ff; text-decoration-color: #0087ff\">BatchNormalization</span>)            │                        │               │\n",
       "├─────────────────────────────────┼────────────────────────┼───────────────┤\n",
       "│ max_pooling1d_40 (<span style=\"color: #0087ff; text-decoration-color: #0087ff\">MaxPooling1D</span>) │ (<span style=\"color: #00d7ff; text-decoration-color: #00d7ff\">None</span>, <span style=\"color: #00af00; text-decoration-color: #00af00\">3740</span>, <span style=\"color: #00af00; text-decoration-color: #00af00\">256</span>)      │             <span style=\"color: #00af00; text-decoration-color: #00af00\">0</span> │\n",
       "├─────────────────────────────────┼────────────────────────┼───────────────┤\n",
       "│ conv1d_41 (<span style=\"color: #0087ff; text-decoration-color: #0087ff\">Conv1D</span>)              │ (<span style=\"color: #00d7ff; text-decoration-color: #00d7ff\">None</span>, <span style=\"color: #00af00; text-decoration-color: #00af00\">3740</span>, <span style=\"color: #00af00; text-decoration-color: #00af00\">256</span>)      │       <span style=\"color: #00af00; text-decoration-color: #00af00\">196,864</span> │\n",
       "├─────────────────────────────────┼────────────────────────┼───────────────┤\n",
       "│ batch_normalization_53          │ (<span style=\"color: #00d7ff; text-decoration-color: #00d7ff\">None</span>, <span style=\"color: #00af00; text-decoration-color: #00af00\">3740</span>, <span style=\"color: #00af00; text-decoration-color: #00af00\">256</span>)      │         <span style=\"color: #00af00; text-decoration-color: #00af00\">1,024</span> │\n",
       "│ (<span style=\"color: #0087ff; text-decoration-color: #0087ff\">BatchNormalization</span>)            │                        │               │\n",
       "├─────────────────────────────────┼────────────────────────┼───────────────┤\n",
       "│ max_pooling1d_41 (<span style=\"color: #0087ff; text-decoration-color: #0087ff\">MaxPooling1D</span>) │ (<span style=\"color: #00d7ff; text-decoration-color: #00d7ff\">None</span>, <span style=\"color: #00af00; text-decoration-color: #00af00\">1870</span>, <span style=\"color: #00af00; text-decoration-color: #00af00\">256</span>)      │             <span style=\"color: #00af00; text-decoration-color: #00af00\">0</span> │\n",
       "├─────────────────────────────────┼────────────────────────┼───────────────┤\n",
       "│ dropout_26 (<span style=\"color: #0087ff; text-decoration-color: #0087ff\">Dropout</span>)            │ (<span style=\"color: #00d7ff; text-decoration-color: #00d7ff\">None</span>, <span style=\"color: #00af00; text-decoration-color: #00af00\">1870</span>, <span style=\"color: #00af00; text-decoration-color: #00af00\">256</span>)      │             <span style=\"color: #00af00; text-decoration-color: #00af00\">0</span> │\n",
       "├─────────────────────────────────┼────────────────────────┼───────────────┤\n",
       "│ conv1d_42 (<span style=\"color: #0087ff; text-decoration-color: #0087ff\">Conv1D</span>)              │ (<span style=\"color: #00d7ff; text-decoration-color: #00d7ff\">None</span>, <span style=\"color: #00af00; text-decoration-color: #00af00\">1870</span>, <span style=\"color: #00af00; text-decoration-color: #00af00\">128</span>)      │        <span style=\"color: #00af00; text-decoration-color: #00af00\">98,432</span> │\n",
       "├─────────────────────────────────┼────────────────────────┼───────────────┤\n",
       "│ batch_normalization_54          │ (<span style=\"color: #00d7ff; text-decoration-color: #00d7ff\">None</span>, <span style=\"color: #00af00; text-decoration-color: #00af00\">1870</span>, <span style=\"color: #00af00; text-decoration-color: #00af00\">128</span>)      │           <span style=\"color: #00af00; text-decoration-color: #00af00\">512</span> │\n",
       "│ (<span style=\"color: #0087ff; text-decoration-color: #0087ff\">BatchNormalization</span>)            │                        │               │\n",
       "├─────────────────────────────────┼────────────────────────┼───────────────┤\n",
       "│ max_pooling1d_42 (<span style=\"color: #0087ff; text-decoration-color: #0087ff\">MaxPooling1D</span>) │ (<span style=\"color: #00d7ff; text-decoration-color: #00d7ff\">None</span>, <span style=\"color: #00af00; text-decoration-color: #00af00\">935</span>, <span style=\"color: #00af00; text-decoration-color: #00af00\">128</span>)       │             <span style=\"color: #00af00; text-decoration-color: #00af00\">0</span> │\n",
       "├─────────────────────────────────┼────────────────────────┼───────────────┤\n",
       "│ dropout_27 (<span style=\"color: #0087ff; text-decoration-color: #0087ff\">Dropout</span>)            │ (<span style=\"color: #00d7ff; text-decoration-color: #00d7ff\">None</span>, <span style=\"color: #00af00; text-decoration-color: #00af00\">935</span>, <span style=\"color: #00af00; text-decoration-color: #00af00\">128</span>)       │             <span style=\"color: #00af00; text-decoration-color: #00af00\">0</span> │\n",
       "├─────────────────────────────────┼────────────────────────┼───────────────┤\n",
       "│ flatten_12 (<span style=\"color: #0087ff; text-decoration-color: #0087ff\">Flatten</span>)            │ (<span style=\"color: #00d7ff; text-decoration-color: #00d7ff\">None</span>, <span style=\"color: #00af00; text-decoration-color: #00af00\">119680</span>)         │             <span style=\"color: #00af00; text-decoration-color: #00af00\">0</span> │\n",
       "├─────────────────────────────────┼────────────────────────┼───────────────┤\n",
       "│ dense_24 (<span style=\"color: #0087ff; text-decoration-color: #0087ff\">Dense</span>)                │ (<span style=\"color: #00d7ff; text-decoration-color: #00d7ff\">None</span>, <span style=\"color: #00af00; text-decoration-color: #00af00\">128</span>)            │    <span style=\"color: #00af00; text-decoration-color: #00af00\">15,319,168</span> │\n",
       "├─────────────────────────────────┼────────────────────────┼───────────────┤\n",
       "│ batch_normalization_55          │ (<span style=\"color: #00d7ff; text-decoration-color: #00d7ff\">None</span>, <span style=\"color: #00af00; text-decoration-color: #00af00\">128</span>)            │           <span style=\"color: #00af00; text-decoration-color: #00af00\">512</span> │\n",
       "│ (<span style=\"color: #0087ff; text-decoration-color: #0087ff\">BatchNormalization</span>)            │                        │               │\n",
       "├─────────────────────────────────┼────────────────────────┼───────────────┤\n",
       "│ dense_25 (<span style=\"color: #0087ff; text-decoration-color: #0087ff\">Dense</span>)                │ (<span style=\"color: #00d7ff; text-decoration-color: #00d7ff\">None</span>, <span style=\"color: #00af00; text-decoration-color: #00af00\">10</span>)             │         <span style=\"color: #00af00; text-decoration-color: #00af00\">1,290</span> │\n",
       "└─────────────────────────────────┴────────────────────────┴───────────────┘\n",
       "</pre>\n"
      ],
      "text/plain": [
       "┏━━━━━━━━━━━━━━━━━━━━━━━━━━━━━━━━━┳━━━━━━━━━━━━━━━━━━━━━━━━┳━━━━━━━━━━━━━━━┓\n",
       "┃\u001b[1m \u001b[0m\u001b[1mLayer (type)                   \u001b[0m\u001b[1m \u001b[0m┃\u001b[1m \u001b[0m\u001b[1mOutput Shape          \u001b[0m\u001b[1m \u001b[0m┃\u001b[1m \u001b[0m\u001b[1m      Param #\u001b[0m\u001b[1m \u001b[0m┃\n",
       "┡━━━━━━━━━━━━━━━━━━━━━━━━━━━━━━━━━╇━━━━━━━━━━━━━━━━━━━━━━━━╇━━━━━━━━━━━━━━━┩\n",
       "│ conv1d_40 (\u001b[38;5;33mConv1D\u001b[0m)              │ (\u001b[38;5;45mNone\u001b[0m, \u001b[38;5;34m7480\u001b[0m, \u001b[38;5;34m256\u001b[0m)      │         \u001b[38;5;34m1,536\u001b[0m │\n",
       "├─────────────────────────────────┼────────────────────────┼───────────────┤\n",
       "│ batch_normalization_52          │ (\u001b[38;5;45mNone\u001b[0m, \u001b[38;5;34m7480\u001b[0m, \u001b[38;5;34m256\u001b[0m)      │         \u001b[38;5;34m1,024\u001b[0m │\n",
       "│ (\u001b[38;5;33mBatchNormalization\u001b[0m)            │                        │               │\n",
       "├─────────────────────────────────┼────────────────────────┼───────────────┤\n",
       "│ max_pooling1d_40 (\u001b[38;5;33mMaxPooling1D\u001b[0m) │ (\u001b[38;5;45mNone\u001b[0m, \u001b[38;5;34m3740\u001b[0m, \u001b[38;5;34m256\u001b[0m)      │             \u001b[38;5;34m0\u001b[0m │\n",
       "├─────────────────────────────────┼────────────────────────┼───────────────┤\n",
       "│ conv1d_41 (\u001b[38;5;33mConv1D\u001b[0m)              │ (\u001b[38;5;45mNone\u001b[0m, \u001b[38;5;34m3740\u001b[0m, \u001b[38;5;34m256\u001b[0m)      │       \u001b[38;5;34m196,864\u001b[0m │\n",
       "├─────────────────────────────────┼────────────────────────┼───────────────┤\n",
       "│ batch_normalization_53          │ (\u001b[38;5;45mNone\u001b[0m, \u001b[38;5;34m3740\u001b[0m, \u001b[38;5;34m256\u001b[0m)      │         \u001b[38;5;34m1,024\u001b[0m │\n",
       "│ (\u001b[38;5;33mBatchNormalization\u001b[0m)            │                        │               │\n",
       "├─────────────────────────────────┼────────────────────────┼───────────────┤\n",
       "│ max_pooling1d_41 (\u001b[38;5;33mMaxPooling1D\u001b[0m) │ (\u001b[38;5;45mNone\u001b[0m, \u001b[38;5;34m1870\u001b[0m, \u001b[38;5;34m256\u001b[0m)      │             \u001b[38;5;34m0\u001b[0m │\n",
       "├─────────────────────────────────┼────────────────────────┼───────────────┤\n",
       "│ dropout_26 (\u001b[38;5;33mDropout\u001b[0m)            │ (\u001b[38;5;45mNone\u001b[0m, \u001b[38;5;34m1870\u001b[0m, \u001b[38;5;34m256\u001b[0m)      │             \u001b[38;5;34m0\u001b[0m │\n",
       "├─────────────────────────────────┼────────────────────────┼───────────────┤\n",
       "│ conv1d_42 (\u001b[38;5;33mConv1D\u001b[0m)              │ (\u001b[38;5;45mNone\u001b[0m, \u001b[38;5;34m1870\u001b[0m, \u001b[38;5;34m128\u001b[0m)      │        \u001b[38;5;34m98,432\u001b[0m │\n",
       "├─────────────────────────────────┼────────────────────────┼───────────────┤\n",
       "│ batch_normalization_54          │ (\u001b[38;5;45mNone\u001b[0m, \u001b[38;5;34m1870\u001b[0m, \u001b[38;5;34m128\u001b[0m)      │           \u001b[38;5;34m512\u001b[0m │\n",
       "│ (\u001b[38;5;33mBatchNormalization\u001b[0m)            │                        │               │\n",
       "├─────────────────────────────────┼────────────────────────┼───────────────┤\n",
       "│ max_pooling1d_42 (\u001b[38;5;33mMaxPooling1D\u001b[0m) │ (\u001b[38;5;45mNone\u001b[0m, \u001b[38;5;34m935\u001b[0m, \u001b[38;5;34m128\u001b[0m)       │             \u001b[38;5;34m0\u001b[0m │\n",
       "├─────────────────────────────────┼────────────────────────┼───────────────┤\n",
       "│ dropout_27 (\u001b[38;5;33mDropout\u001b[0m)            │ (\u001b[38;5;45mNone\u001b[0m, \u001b[38;5;34m935\u001b[0m, \u001b[38;5;34m128\u001b[0m)       │             \u001b[38;5;34m0\u001b[0m │\n",
       "├─────────────────────────────────┼────────────────────────┼───────────────┤\n",
       "│ flatten_12 (\u001b[38;5;33mFlatten\u001b[0m)            │ (\u001b[38;5;45mNone\u001b[0m, \u001b[38;5;34m119680\u001b[0m)         │             \u001b[38;5;34m0\u001b[0m │\n",
       "├─────────────────────────────────┼────────────────────────┼───────────────┤\n",
       "│ dense_24 (\u001b[38;5;33mDense\u001b[0m)                │ (\u001b[38;5;45mNone\u001b[0m, \u001b[38;5;34m128\u001b[0m)            │    \u001b[38;5;34m15,319,168\u001b[0m │\n",
       "├─────────────────────────────────┼────────────────────────┼───────────────┤\n",
       "│ batch_normalization_55          │ (\u001b[38;5;45mNone\u001b[0m, \u001b[38;5;34m128\u001b[0m)            │           \u001b[38;5;34m512\u001b[0m │\n",
       "│ (\u001b[38;5;33mBatchNormalization\u001b[0m)            │                        │               │\n",
       "├─────────────────────────────────┼────────────────────────┼───────────────┤\n",
       "│ dense_25 (\u001b[38;5;33mDense\u001b[0m)                │ (\u001b[38;5;45mNone\u001b[0m, \u001b[38;5;34m10\u001b[0m)             │         \u001b[38;5;34m1,290\u001b[0m │\n",
       "└─────────────────────────────────┴────────────────────────┴───────────────┘\n"
      ]
     },
     "metadata": {},
     "output_type": "display_data"
    },
    {
     "data": {
      "text/html": [
       "<pre style=\"white-space:pre;overflow-x:auto;line-height:normal;font-family:Menlo,'DejaVu Sans Mono',consolas,'Courier New',monospace\"><span style=\"font-weight: bold\"> Total params: </span><span style=\"color: #00af00; text-decoration-color: #00af00\">15,620,362</span> (59.59 MB)\n",
       "</pre>\n"
      ],
      "text/plain": [
       "\u001b[1m Total params: \u001b[0m\u001b[38;5;34m15,620,362\u001b[0m (59.59 MB)\n"
      ]
     },
     "metadata": {},
     "output_type": "display_data"
    },
    {
     "data": {
      "text/html": [
       "<pre style=\"white-space:pre;overflow-x:auto;line-height:normal;font-family:Menlo,'DejaVu Sans Mono',consolas,'Courier New',monospace\"><span style=\"font-weight: bold\"> Trainable params: </span><span style=\"color: #00af00; text-decoration-color: #00af00\">15,618,826</span> (59.58 MB)\n",
       "</pre>\n"
      ],
      "text/plain": [
       "\u001b[1m Trainable params: \u001b[0m\u001b[38;5;34m15,618,826\u001b[0m (59.58 MB)\n"
      ]
     },
     "metadata": {},
     "output_type": "display_data"
    },
    {
     "data": {
      "text/html": [
       "<pre style=\"white-space:pre;overflow-x:auto;line-height:normal;font-family:Menlo,'DejaVu Sans Mono',consolas,'Courier New',monospace\"><span style=\"font-weight: bold\"> Non-trainable params: </span><span style=\"color: #00af00; text-decoration-color: #00af00\">1,536</span> (6.00 KB)\n",
       "</pre>\n"
      ],
      "text/plain": [
       "\u001b[1m Non-trainable params: \u001b[0m\u001b[38;5;34m1,536\u001b[0m (6.00 KB)\n"
      ]
     },
     "metadata": {},
     "output_type": "display_data"
    }
   ],
   "source": [
    "import tensorflow.keras.layers as L\n",
    "\n",
    "model = tf.keras.Sequential([\n",
    "    L.Conv1D(256,kernel_size=5,strides=1,padding='same',activation='relu',input_shape=(X_train.shape[1],1)),\n",
    "    L.BatchNormalization(),\n",
    "    L.MaxPool1D(pool_size=5,strides=2,padding='same'),\n",
    "    \n",
    "    L.Conv1D(256,kernel_size=3,strides=1,padding='same',activation='relu'),\n",
    "    L.BatchNormalization(),\n",
    "    L.MaxPool1D(pool_size=5,strides=2,padding='same'),\n",
    "    Dropout(0.2),  \n",
    "    \n",
    "    L.Conv1D(128,kernel_size=3,strides=1,padding='same',activation='relu'),\n",
    "    L.BatchNormalization(),\n",
    "    L.MaxPool1D(pool_size=3,strides=2,padding='same'),\n",
    "    Dropout(0.2), \n",
    "\n",
    "    L.Flatten(),\n",
    "    L.Dense(128,activation='relu'),\n",
    "    L.BatchNormalization(),\n",
    "    L.Dense(10,activation='softmax')\n",
    "    ])\n",
    "model.compile(optimizer='adam',loss='sparse_categorical_crossentropy',metrics=['accuracy'])\n",
    "model.summary()"
   ]
  },
  {
   "cell_type": "code",
   "execution_count": 245,
   "id": "1839c893-5a69-4700-b18e-9b32436b19e8",
   "metadata": {},
   "outputs": [
    {
     "name": "stdout",
     "output_type": "stream",
     "text": [
      "The tensorboard extension is already loaded. To reload it, use:\n",
      "  %reload_ext tensorboard\n",
      "Epoch 1/50\n",
      "\u001b[1m80/80\u001b[0m \u001b[32m━━━━━━━━━━━━━━━━━━━━\u001b[0m\u001b[37m\u001b[0m \u001b[1m140s\u001b[0m 2s/step - accuracy: 0.3458 - loss: 1.9313 - val_accuracy: 0.1456 - val_loss: 7.9046\n",
      "Epoch 2/50\n",
      "\u001b[1m80/80\u001b[0m \u001b[32m━━━━━━━━━━━━━━━━━━━━\u001b[0m\u001b[37m\u001b[0m \u001b[1m145s\u001b[0m 2s/step - accuracy: 0.5649 - loss: 1.1835 - val_accuracy: 0.3172 - val_loss: 2.3299\n",
      "Epoch 3/50\n",
      "\u001b[1m80/80\u001b[0m \u001b[32m━━━━━━━━━━━━━━━━━━━━\u001b[0m\u001b[37m\u001b[0m \u001b[1m140s\u001b[0m 2s/step - accuracy: 0.6585 - loss: 0.9125 - val_accuracy: 0.1976 - val_loss: 3.6181\n",
      "Epoch 4/50\n",
      "\u001b[1m80/80\u001b[0m \u001b[32m━━━━━━━━━━━━━━━━━━━━\u001b[0m\u001b[37m\u001b[0m \u001b[1m138s\u001b[0m 2s/step - accuracy: 0.7481 - loss: 0.7240 - val_accuracy: 0.4604 - val_loss: 1.5465\n",
      "Epoch 5/50\n",
      "\u001b[1m80/80\u001b[0m \u001b[32m━━━━━━━━━━━━━━━━━━━━\u001b[0m\u001b[37m\u001b[0m \u001b[1m139s\u001b[0m 2s/step - accuracy: 0.8637 - loss: 0.4583 - val_accuracy: 0.6414 - val_loss: 1.0367\n",
      "Epoch 6/50\n",
      "\u001b[1m80/80\u001b[0m \u001b[32m━━━━━━━━━━━━━━━━━━━━\u001b[0m\u001b[37m\u001b[0m \u001b[1m138s\u001b[0m 2s/step - accuracy: 0.9212 - loss: 0.2805 - val_accuracy: 0.5479 - val_loss: 1.3071\n",
      "Epoch 7/50\n",
      "\u001b[1m80/80\u001b[0m \u001b[32m━━━━━━━━━━━━━━━━━━━━\u001b[0m\u001b[37m\u001b[0m \u001b[1m145s\u001b[0m 2s/step - accuracy: 0.9469 - loss: 0.2182 - val_accuracy: 0.8320 - val_loss: 0.5098\n",
      "Epoch 8/50\n",
      "\u001b[1m80/80\u001b[0m \u001b[32m━━━━━━━━━━━━━━━━━━━━\u001b[0m\u001b[37m\u001b[0m \u001b[1m140s\u001b[0m 2s/step - accuracy: 0.9639 - loss: 0.1254 - val_accuracy: 0.8095 - val_loss: 0.5756\n",
      "Epoch 9/50\n",
      "\u001b[1m80/80\u001b[0m \u001b[32m━━━━━━━━━━━━━━━━━━━━\u001b[0m\u001b[37m\u001b[0m \u001b[1m135s\u001b[0m 2s/step - accuracy: 0.9762 - loss: 0.1057 - val_accuracy: 0.8604 - val_loss: 0.4194\n",
      "Epoch 10/50\n",
      "\u001b[1m80/80\u001b[0m \u001b[32m━━━━━━━━━━━━━━━━━━━━\u001b[0m\u001b[37m\u001b[0m \u001b[1m137s\u001b[0m 2s/step - accuracy: 0.9918 - loss: 0.0647 - val_accuracy: 0.8757 - val_loss: 0.4613\n",
      "Epoch 11/50\n",
      "\u001b[1m80/80\u001b[0m \u001b[32m━━━━━━━━━━━━━━━━━━━━\u001b[0m\u001b[37m\u001b[0m \u001b[1m138s\u001b[0m 2s/step - accuracy: 0.9890 - loss: 0.0592 - val_accuracy: 0.8450 - val_loss: 0.4708\n",
      "Epoch 12/50\n",
      "\u001b[1m80/80\u001b[0m \u001b[32m━━━━━━━━━━━━━━━━━━━━\u001b[0m\u001b[37m\u001b[0m \u001b[1m144s\u001b[0m 2s/step - accuracy: 0.9854 - loss: 0.0762 - val_accuracy: 0.8651 - val_loss: 0.4013\n",
      "Epoch 13/50\n",
      "\u001b[1m80/80\u001b[0m \u001b[32m━━━━━━━━━━━━━━━━━━━━\u001b[0m\u001b[37m\u001b[0m \u001b[1m138s\u001b[0m 2s/step - accuracy: 0.9910 - loss: 0.0452 - val_accuracy: 0.8805 - val_loss: 0.3345\n",
      "Epoch 14/50\n",
      "\u001b[1m80/80\u001b[0m \u001b[32m━━━━━━━━━━━━━━━━━━━━\u001b[0m\u001b[37m\u001b[0m \u001b[1m141s\u001b[0m 2s/step - accuracy: 0.9829 - loss: 0.0923 - val_accuracy: 0.8757 - val_loss: 0.4178\n",
      "Epoch 15/50\n",
      "\u001b[1m80/80\u001b[0m \u001b[32m━━━━━━━━━━━━━━━━━━━━\u001b[0m\u001b[37m\u001b[0m \u001b[1m135s\u001b[0m 2s/step - accuracy: 0.9865 - loss: 0.0594 - val_accuracy: 0.8568 - val_loss: 0.5215\n",
      "Epoch 16/50\n",
      "\u001b[1m80/80\u001b[0m \u001b[32m━━━━━━━━━━━━━━━━━━━━\u001b[0m\u001b[37m\u001b[0m \u001b[1m142s\u001b[0m 2s/step - accuracy: 0.9940 - loss: 0.0313 - val_accuracy: 0.9006 - val_loss: 0.3447\n",
      "Epoch 17/50\n",
      "\u001b[1m80/80\u001b[0m \u001b[32m━━━━━━━━━━━━━━━━━━━━\u001b[0m\u001b[37m\u001b[0m \u001b[1m144s\u001b[0m 2s/step - accuracy: 0.9994 - loss: 0.0139 - val_accuracy: 0.9065 - val_loss: 0.3035\n",
      "Epoch 18/50\n",
      "\u001b[1m80/80\u001b[0m \u001b[32m━━━━━━━━━━━━━━━━━━━━\u001b[0m\u001b[37m\u001b[0m \u001b[1m140s\u001b[0m 2s/step - accuracy: 0.9987 - loss: 0.0195 - val_accuracy: 0.9065 - val_loss: 0.3383\n",
      "Epoch 19/50\n",
      "\u001b[1m80/80\u001b[0m \u001b[32m━━━━━━━━━━━━━━━━━━━━\u001b[0m\u001b[37m\u001b[0m \u001b[1m140s\u001b[0m 2s/step - accuracy: 0.9971 - loss: 0.0152 - val_accuracy: 0.9183 - val_loss: 0.2969\n",
      "Epoch 20/50\n",
      "\u001b[1m80/80\u001b[0m \u001b[32m━━━━━━━━━━━━━━━━━━━━\u001b[0m\u001b[37m\u001b[0m \u001b[1m150s\u001b[0m 2s/step - accuracy: 1.0000 - loss: 0.0091 - val_accuracy: 0.9231 - val_loss: 0.2575\n",
      "Epoch 21/50\n",
      "\u001b[1m80/80\u001b[0m \u001b[32m━━━━━━━━━━━━━━━━━━━━\u001b[0m\u001b[37m\u001b[0m \u001b[1m144s\u001b[0m 2s/step - accuracy: 0.9910 - loss: 0.0488 - val_accuracy: 0.8604 - val_loss: 0.4443\n",
      "Epoch 22/50\n",
      "\u001b[1m80/80\u001b[0m \u001b[32m━━━━━━━━━━━━━━━━━━━━\u001b[0m\u001b[37m\u001b[0m \u001b[1m141s\u001b[0m 2s/step - accuracy: 0.9991 - loss: 0.0253 - val_accuracy: 0.8982 - val_loss: 0.3046\n",
      "Epoch 23/50\n",
      "\u001b[1m80/80\u001b[0m \u001b[32m━━━━━━━━━━━━━━━━━━━━\u001b[0m\u001b[37m\u001b[0m \u001b[1m135s\u001b[0m 2s/step - accuracy: 0.9924 - loss: 0.0295 - val_accuracy: 0.8923 - val_loss: 0.3410\n",
      "Epoch 24/50\n",
      "\u001b[1m80/80\u001b[0m \u001b[32m━━━━━━━━━━━━━━━━━━━━\u001b[0m\u001b[37m\u001b[0m \u001b[1m142s\u001b[0m 2s/step - accuracy: 0.9844 - loss: 0.0563 - val_accuracy: 0.8402 - val_loss: 0.4781\n",
      "Epoch 25/50\n",
      "\u001b[1m80/80\u001b[0m \u001b[32m━━━━━━━━━━━━━━━━━━━━\u001b[0m\u001b[37m\u001b[0m \u001b[1m150s\u001b[0m 2s/step - accuracy: 0.9975 - loss: 0.0188 - val_accuracy: 0.8852 - val_loss: 0.3528\n",
      "Epoch 26/50\n",
      "\u001b[1m80/80\u001b[0m \u001b[32m━━━━━━━━━━━━━━━━━━━━\u001b[0m\u001b[37m\u001b[0m \u001b[1m148s\u001b[0m 2s/step - accuracy: 0.9999 - loss: 0.0085 - val_accuracy: 0.8982 - val_loss: 0.3603\n",
      "Epoch 27/50\n",
      "\u001b[1m80/80\u001b[0m \u001b[32m━━━━━━━━━━━━━━━━━━━━\u001b[0m\u001b[37m\u001b[0m \u001b[1m134s\u001b[0m 2s/step - accuracy: 1.0000 - loss: 0.0064 - val_accuracy: 0.9231 - val_loss: 0.2704\n",
      "Epoch 28/50\n",
      "\u001b[1m80/80\u001b[0m \u001b[32m━━━━━━━━━━━━━━━━━━━━\u001b[0m\u001b[37m\u001b[0m \u001b[1m133s\u001b[0m 2s/step - accuracy: 0.9837 - loss: 0.0517 - val_accuracy: 0.7740 - val_loss: 0.6505\n",
      "Epoch 29/50\n",
      "\u001b[1m80/80\u001b[0m \u001b[32m━━━━━━━━━━━━━━━━━━━━\u001b[0m\u001b[37m\u001b[0m \u001b[1m133s\u001b[0m 2s/step - accuracy: 0.9820 - loss: 0.0755 - val_accuracy: 0.8663 - val_loss: 0.4088\n",
      "Epoch 30/50\n",
      "\u001b[1m80/80\u001b[0m \u001b[32m━━━━━━━━━━━━━━━━━━━━\u001b[0m\u001b[37m\u001b[0m \u001b[1m136s\u001b[0m 2s/step - accuracy: 0.9865 - loss: 0.0469 - val_accuracy: 0.8568 - val_loss: 0.4950\n",
      "Epoch 31/50\n",
      "\u001b[1m80/80\u001b[0m \u001b[32m━━━━━━━━━━━━━━━━━━━━\u001b[0m\u001b[37m\u001b[0m \u001b[1m136s\u001b[0m 2s/step - accuracy: 0.9977 - loss: 0.0127 - val_accuracy: 0.8888 - val_loss: 0.3289\n",
      "Epoch 32/50\n",
      "\u001b[1m80/80\u001b[0m \u001b[32m━━━━━━━━━━━━━━━━━━━━\u001b[0m\u001b[37m\u001b[0m \u001b[1m135s\u001b[0m 2s/step - accuracy: 0.9974 - loss: 0.0142 - val_accuracy: 0.8828 - val_loss: 0.4183\n",
      "Epoch 33/50\n",
      "\u001b[1m80/80\u001b[0m \u001b[32m━━━━━━━━━━━━━━━━━━━━\u001b[0m\u001b[37m\u001b[0m \u001b[1m134s\u001b[0m 2s/step - accuracy: 0.9900 - loss: 0.0447 - val_accuracy: 0.8047 - val_loss: 0.5949\n",
      "Epoch 34/50\n",
      "\u001b[1m80/80\u001b[0m \u001b[32m━━━━━━━━━━━━━━━━━━━━\u001b[0m\u001b[37m\u001b[0m \u001b[1m137s\u001b[0m 2s/step - accuracy: 0.9960 - loss: 0.0222 - val_accuracy: 0.8947 - val_loss: 0.4047\n",
      "Epoch 35/50\n",
      "\u001b[1m80/80\u001b[0m \u001b[32m━━━━━━━━━━━━━━━━━━━━\u001b[0m\u001b[37m\u001b[0m \u001b[1m141s\u001b[0m 2s/step - accuracy: 0.9969 - loss: 0.0137 - val_accuracy: 0.9065 - val_loss: 0.3132\n",
      "Epoch 36/50\n",
      "\u001b[1m80/80\u001b[0m \u001b[32m━━━━━━━━━━━━━━━━━━━━\u001b[0m\u001b[37m\u001b[0m \u001b[1m141s\u001b[0m 2s/step - accuracy: 0.9955 - loss: 0.0197 - val_accuracy: 0.8994 - val_loss: 0.3381\n",
      "Epoch 37/50\n",
      "\u001b[1m80/80\u001b[0m \u001b[32m━━━━━━━━━━━━━━━━━━━━\u001b[0m\u001b[37m\u001b[0m \u001b[1m147s\u001b[0m 2s/step - accuracy: 0.9987 - loss: 0.0100 - val_accuracy: 0.9325 - val_loss: 0.2623\n",
      "Epoch 38/50\n",
      "\u001b[1m80/80\u001b[0m \u001b[32m━━━━━━━━━━━━━━━━━━━━\u001b[0m\u001b[37m\u001b[0m \u001b[1m151s\u001b[0m 2s/step - accuracy: 0.9990 - loss: 0.0051 - val_accuracy: 0.9266 - val_loss: 0.2791\n",
      "Epoch 39/50\n",
      "\u001b[1m80/80\u001b[0m \u001b[32m━━━━━━━━━━━━━━━━━━━━\u001b[0m\u001b[37m\u001b[0m \u001b[1m147s\u001b[0m 2s/step - accuracy: 0.9986 - loss: 0.0147 - val_accuracy: 0.9101 - val_loss: 0.3187\n",
      "Epoch 40/50\n",
      "\u001b[1m80/80\u001b[0m \u001b[32m━━━━━━━━━━━━━━━━━━━━\u001b[0m\u001b[37m\u001b[0m \u001b[1m137s\u001b[0m 2s/step - accuracy: 0.9986 - loss: 0.0095 - val_accuracy: 0.8947 - val_loss: 0.3156\n",
      "Epoch 41/50\n",
      "\u001b[1m80/80\u001b[0m \u001b[32m━━━━━━━━━━━━━━━━━━━━\u001b[0m\u001b[37m\u001b[0m \u001b[1m134s\u001b[0m 2s/step - accuracy: 0.9877 - loss: 0.0484 - val_accuracy: 0.8497 - val_loss: 0.4803\n",
      "Epoch 42/50\n",
      "\u001b[1m80/80\u001b[0m \u001b[32m━━━━━━━━━━━━━━━━━━━━\u001b[0m\u001b[37m\u001b[0m \u001b[1m134s\u001b[0m 2s/step - accuracy: 0.9926 - loss: 0.0296 - val_accuracy: 0.5669 - val_loss: 2.8370\n",
      "Epoch 43/50\n",
      "\u001b[1m80/80\u001b[0m \u001b[32m━━━━━━━━━━━━━━━━━━━━\u001b[0m\u001b[37m\u001b[0m \u001b[1m134s\u001b[0m 2s/step - accuracy: 0.9648 - loss: 0.1029 - val_accuracy: 0.8154 - val_loss: 0.5731\n",
      "Epoch 44/50\n",
      "\u001b[1m80/80\u001b[0m \u001b[32m━━━━━━━━━━━━━━━━━━━━\u001b[0m\u001b[37m\u001b[0m \u001b[1m136s\u001b[0m 2s/step - accuracy: 0.9919 - loss: 0.0347 - val_accuracy: 0.8959 - val_loss: 0.3459\n",
      "Epoch 45/50\n",
      "\u001b[1m80/80\u001b[0m \u001b[32m━━━━━━━━━━━━━━━━━━━━\u001b[0m\u001b[37m\u001b[0m \u001b[1m138s\u001b[0m 2s/step - accuracy: 0.9817 - loss: 0.0666 - val_accuracy: 0.8651 - val_loss: 0.4177\n",
      "Epoch 46/50\n",
      "\u001b[1m80/80\u001b[0m \u001b[32m━━━━━━━━━━━━━━━━━━━━\u001b[0m\u001b[37m\u001b[0m \u001b[1m144s\u001b[0m 2s/step - accuracy: 0.9937 - loss: 0.0199 - val_accuracy: 0.9018 - val_loss: 0.3063\n",
      "Epoch 47/50\n",
      "\u001b[1m80/80\u001b[0m \u001b[32m━━━━━━━━━━━━━━━━━━━━\u001b[0m\u001b[37m\u001b[0m \u001b[1m136s\u001b[0m 2s/step - accuracy: 0.9990 - loss: 0.0087 - val_accuracy: 0.9089 - val_loss: 0.2953\n",
      "Epoch 48/50\n",
      "\u001b[1m80/80\u001b[0m \u001b[32m━━━━━━━━━━━━━━━━━━━━\u001b[0m\u001b[37m\u001b[0m \u001b[1m131s\u001b[0m 2s/step - accuracy: 0.9922 - loss: 0.0266 - val_accuracy: 0.8864 - val_loss: 0.3677\n",
      "Epoch 49/50\n",
      "\u001b[1m80/80\u001b[0m \u001b[32m━━━━━━━━━━━━━━━━━━━━\u001b[0m\u001b[37m\u001b[0m \u001b[1m131s\u001b[0m 2s/step - accuracy: 0.9885 - loss: 0.0432 - val_accuracy: 0.8663 - val_loss: 0.4400\n",
      "Epoch 50/50\n",
      "\u001b[1m80/80\u001b[0m \u001b[32m━━━━━━━━━━━━━━━━━━━━\u001b[0m\u001b[37m\u001b[0m \u001b[1m132s\u001b[0m 2s/step - accuracy: 0.9886 - loss: 0.0498 - val_accuracy: 0.7811 - val_loss: 0.8161\n"
     ]
    }
   ],
   "source": [
    "%load_ext tensorboard\n",
    "\n",
    "import datetime\n",
    "import tensorflow as tf\n",
    "log_dir = \"logs/fit/\" + datetime.datetime.now().strftime(\"%Y%m%d-%H%M%S\")\n",
    "cp = tf.keras.callbacks.TensorBoard(log_dir=log_dir, histogram_freq=1)\n",
    "history = model.fit(x_traincnn,y_train,\n",
    "                   epochs=50,\n",
    "                   validation_data=(x_valcnn,y_val),\n",
    "                   callbacks=cp)"
   ]
  },
  {
   "cell_type": "code",
   "execution_count": 246,
   "id": "77a2b8f5-a2d7-47be-9e77-76d852519ff9",
   "metadata": {},
   "outputs": [
    {
     "data": {
      "text/html": [
       "\n",
       "      <iframe id=\"tensorboard-frame-c9c6a26b85af5d8b\" width=\"100%\" height=\"800\" frameborder=\"0\">\n",
       "      </iframe>\n",
       "      <script>\n",
       "        (function() {\n",
       "          const frame = document.getElementById(\"tensorboard-frame-c9c6a26b85af5d8b\");\n",
       "          const url = new URL(\"/\", window.location);\n",
       "          const port = 6006;\n",
       "          if (port) {\n",
       "            url.port = port;\n",
       "          }\n",
       "          frame.src = url;\n",
       "        })();\n",
       "      </script>\n",
       "    "
      ],
      "text/plain": [
       "<IPython.core.display.HTML object>"
      ]
     },
     "metadata": {},
     "output_type": "display_data"
    }
   ],
   "source": [
    "%tensorboard --logdir logs/fit"
   ]
  },
  {
   "cell_type": "code",
   "execution_count": 251,
   "id": "743dc35e-40a8-4bcf-9625-95cf6f6a3f9b",
   "metadata": {},
   "outputs": [
    {
     "name": "stdout",
     "output_type": "stream",
     "text": [
      "\u001b[1m27/27\u001b[0m \u001b[32m━━━━━━━━━━━━━━━━━━━━\u001b[0m\u001b[37m\u001b[0m \u001b[1m9s\u001b[0m 338ms/step - accuracy: 0.7785 - loss: 0.9616\n"
     ]
    },
    {
     "data": {
      "text/plain": [
       "[0.9293036460876465, 0.7621302008628845]"
      ]
     },
     "execution_count": 251,
     "metadata": {},
     "output_type": "execute_result"
    }
   ],
   "source": [
    "model.evaluate(x_testcnn,y_test)"
   ]
  },
  {
   "cell_type": "code",
   "execution_count": 252,
   "id": "d5ff7ca4-b593-404d-809c-84404cb8bfff",
   "metadata": {},
   "outputs": [
    {
     "name": "stdout",
     "output_type": "stream",
     "text": [
      "\u001b[1m27/27\u001b[0m \u001b[32m━━━━━━━━━━━━━━━━━━━━\u001b[0m\u001b[37m\u001b[0m \u001b[1m9s\u001b[0m 329ms/step\n"
     ]
    }
   ],
   "source": [
    "predicted_emotion = model.predict(x_testcnn)"
   ]
  },
  {
   "cell_type": "code",
   "execution_count": 253,
   "id": "f464e890-5a70-4def-8017-dfec4118f47b",
   "metadata": {},
   "outputs": [
    {
     "data": {
      "text/plain": [
       "array([1, 8, 6, 1, 1, 3, 1, 3, 6, 1, 9, 3, 3, 3, 8, 9, 4, 6, 2, 7])"
      ]
     },
     "execution_count": 253,
     "metadata": {},
     "output_type": "execute_result"
    }
   ],
   "source": [
    "predicted_classes = np.argmax(predicted_emotion, axis=1)\n",
    "predicted_classes[0:20]"
   ]
  },
  {
   "cell_type": "code",
   "execution_count": 254,
   "id": "2035633a-9984-4f9e-b868-5f33bda71a5c",
   "metadata": {},
   "outputs": [
    {
     "data": {
      "image/png": "[encoded data removed]",
      "text/plain": [
       "<Figure size 640x480 with 2 Axes>"
      ]
     },
     "metadata": {},
     "output_type": "display_data"
    }
   ],
   "source": [
    "from sklearn.metrics import confusion_matrix, ConfusionMatrixDisplay\n",
    "\n",
    "unique_labels = data['Emotions'].unique()\n",
    "cm = confusion_matrix(y_test, predicted_classes)\n",
    "disp = ConfusionMatrixDisplay(confusion_matrix=cm, display_labels=unique_labels)\n",
    "disp.plot(cmap=plt.cm.Blues)\n",
    "plt.xticks(rotation=45)\n",
    "plt.title('Confusion Matrix')\n",
    "plt.show()"
   ]
  },
  {
   "cell_type": "code",
   "execution_count": 87,
   "id": "65cc65d0-57c0-420d-9a42-f8d859da6d7b",
   "metadata": {},
   "outputs": [
    {
     "data": {
      "text/html": [
       "<style>#sk-container-id-1 {\n",
       "  /* Definition of color scheme common for light and dark mode */\n",
       "  --sklearn-color-text: black;\n",
       "  --sklearn-color-line: gray;\n",
       "  /* Definition of color scheme for unfitted estimators */\n",
       "  --sklearn-color-unfitted-level-0: #fff5e6;\n",
       "  --sklearn-color-unfitted-level-1: #f6e4d2;\n",
       "  --sklearn-color-unfitted-level-2: #ffe0b3;\n",
       "  --sklearn-color-unfitted-level-3: chocolate;\n",
       "  /* Definition of color scheme for fitted estimators */\n",
       "  --sklearn-color-fitted-level-0: #f0f8ff;\n",
       "  --sklearn-color-fitted-level-1: #d4ebff;\n",
       "  --sklearn-color-fitted-level-2: #b3dbfd;\n",
       "  --sklearn-color-fitted-level-3: cornflowerblue;\n",
       "\n",
       "  /* Specific color for light theme */\n",
       "  --sklearn-color-text-on-default-background: var(--sg-text-color, var(--theme-code-foreground, var(--jp-content-font-color1, black)));\n",
       "  --sklearn-color-background: var(--sg-background-color, var(--theme-background, var(--jp-layout-color0, white)));\n",
       "  --sklearn-color-border-box: var(--sg-text-color, var(--theme-code-foreground, var(--jp-content-font-color1, black)));\n",
       "  --sklearn-color-icon: #696969;\n",
       "\n",
       "  @media (prefers-color-scheme: dark) {\n",
       "    /* Redefinition of color scheme for dark theme */\n",
       "    --sklearn-color-text-on-default-background: var(--sg-text-color, var(--theme-code-foreground, var(--jp-content-font-color1, white)));\n",
       "    --sklearn-color-background: var(--sg-background-color, var(--theme-background, var(--jp-layout-color0, #111)));\n",
       "    --sklearn-color-border-box: var(--sg-text-color, var(--theme-code-foreground, var(--jp-content-font-color1, white)));\n",
       "    --sklearn-color-icon: #878787;\n",
       "  }\n",
       "}\n",
       "\n",
       "#sk-container-id-1 {\n",
       "  color: var(--sklearn-color-text);\n",
       "}\n",
       "\n",
       "#sk-container-id-1 pre {\n",
       "  padding: 0;\n",
       "}\n",
       "\n",
       "#sk-container-id-1 input.sk-hidden--visually {\n",
       "  border: 0;\n",
       "  clip: rect(1px 1px 1px 1px);\n",
       "  clip: rect(1px, 1px, 1px, 1px);\n",
       "  height: 1px;\n",
       "  margin: -1px;\n",
       "  overflow: hidden;\n",
       "  padding: 0;\n",
       "  position: absolute;\n",
       "  width: 1px;\n",
       "}\n",
       "\n",
       "#sk-container-id-1 div.sk-dashed-wrapped {\n",
       "  border: 1px dashed var(--sklearn-color-line);\n",
       "  margin: 0 0.4em 0.5em 0.4em;\n",
       "  box-sizing: border-box;\n",
       "  padding-bottom: 0.4em;\n",
       "  background-color: var(--sklearn-color-background);\n",
       "}\n",
       "\n",
       "#sk-container-id-1 div.sk-container {\n",
       "  /* jupyter's `normalize.less` sets `[hidden] { display: none; }`\n",
       "     but bootstrap.min.css set `[hidden] { display: none !important; }`\n",
       "     so we also need the `!important` here to be able to override the\n",
       "     default hidden behavior on the sphinx rendered scikit-learn.org.\n",
       "     See: https://github.com/scikit-learn/scikit-learn/issues/21755 */\n",
       "  display: inline-block !important;\n",
       "  position: relative;\n",
       "}\n",
       "\n",
       "#sk-container-id-1 div.sk-text-repr-fallback {\n",
       "  display: none;\n",
       "}\n",
       "\n",
       "div.sk-parallel-item,\n",
       "div.sk-serial,\n",
       "div.sk-item {\n",
       "  /* draw centered vertical line to link estimators */\n",
       "  background-image: linear-gradient(var(--sklearn-color-text-on-default-background), var(--sklearn-color-text-on-default-background));\n",
       "  background-size: 2px 100%;\n",
       "  background-repeat: no-repeat;\n",
       "  background-position: center center;\n",
       "}\n",
       "\n",
       "/* Parallel-specific style estimator block */\n",
       "\n",
       "#sk-container-id-1 div.sk-parallel-item::after {\n",
       "  content: \"\";\n",
       "  width: 100%;\n",
       "  border-bottom: 2px solid var(--sklearn-color-text-on-default-background);\n",
       "  flex-grow: 1;\n",
       "}\n",
       "\n",
       "#sk-container-id-1 div.sk-parallel {\n",
       "  display: flex;\n",
       "  align-items: stretch;\n",
       "  justify-content: center;\n",
       "  background-color: var(--sklearn-color-background);\n",
       "  position: relative;\n",
       "}\n",
       "\n",
       "#sk-container-id-1 div.sk-parallel-item {\n",
       "  display: flex;\n",
       "  flex-direction: column;\n",
       "}\n",
       "\n",
       "#sk-container-id-1 div.sk-parallel-item:first-child::after {\n",
       "  align-self: flex-end;\n",
       "  width: 50%;\n",
       "}\n",
       "\n",
       "#sk-container-id-1 div.sk-parallel-item:last-child::after {\n",
       "  align-self: flex-start;\n",
       "  width: 50%;\n",
       "}\n",
       "\n",
       "#sk-container-id-1 div.sk-parallel-item:only-child::after {\n",
       "  width: 0;\n",
       "}\n",
       "\n",
       "/* Serial-specific style estimator block */\n",
       "\n",
       "#sk-container-id-1 div.sk-serial {\n",
       "  display: flex;\n",
       "  flex-direction: column;\n",
       "  align-items: center;\n",
       "  background-color: var(--sklearn-color-background);\n",
       "  padding-right: 1em;\n",
       "  padding-left: 1em;\n",
       "}\n",
       "\n",
       "\n",
       "/* Toggleable style: style used for estimator/Pipeline/ColumnTransformer box that is\n",
       "clickable and can be expanded/collapsed.\n",
       "- Pipeline and ColumnTransformer use this feature and define the default style\n",
       "- Estimators will overwrite some part of the style using the `sk-estimator` class\n",
       "*/\n",
       "\n",
       "/* Pipeline and ColumnTransformer style (default) */\n",
       "\n",
       "#sk-container-id-1 div.sk-toggleable {\n",
       "  /* Default theme specific background. It is overwritten whether we have a\n",
       "  specific estimator or a Pipeline/ColumnTransformer */\n",
       "  background-color: var(--sklearn-color-background);\n",
       "}\n",
       "\n",
       "/* Toggleable label */\n",
       "#sk-container-id-1 label.sk-toggleable__label {\n",
       "  cursor: pointer;\n",
       "  display: block;\n",
       "  width: 100%;\n",
       "  margin-bottom: 0;\n",
       "  padding: 0.5em;\n",
       "  box-sizing: border-box;\n",
       "  text-align: center;\n",
       "}\n",
       "\n",
       "#sk-container-id-1 label.sk-toggleable__label-arrow:before {\n",
       "  /* Arrow on the left of the label */\n",
       "  content: \"▸\";\n",
       "  float: left;\n",
       "  margin-right: 0.25em;\n",
       "  color: var(--sklearn-color-icon);\n",
       "}\n",
       "\n",
       "#sk-container-id-1 label.sk-toggleable__label-arrow:hover:before {\n",
       "  color: var(--sklearn-color-text);\n",
       "}\n",
       "\n",
       "/* Toggleable content - dropdown */\n",
       "\n",
       "#sk-container-id-1 div.sk-toggleable__content {\n",
       "  max-height: 0;\n",
       "  max-width: 0;\n",
       "  overflow: hidden;\n",
       "  text-align: left;\n",
       "  /* unfitted */\n",
       "  background-color: var(--sklearn-color-unfitted-level-0);\n",
       "}\n",
       "\n",
       "#sk-container-id-1 div.sk-toggleable__content.fitted {\n",
       "  /* fitted */\n",
       "  background-color: var(--sklearn-color-fitted-level-0);\n",
       "}\n",
       "\n",
       "#sk-container-id-1 div.sk-toggleable__content pre {\n",
       "  margin: 0.2em;\n",
       "  border-radius: 0.25em;\n",
       "  color: var(--sklearn-color-text);\n",
       "  /* unfitted */\n",
       "  background-color: var(--sklearn-color-unfitted-level-0);\n",
       "}\n",
       "\n",
       "#sk-container-id-1 div.sk-toggleable__content.fitted pre {\n",
       "  /* unfitted */\n",
       "  background-color: var(--sklearn-color-fitted-level-0);\n",
       "}\n",
       "\n",
       "#sk-container-id-1 input.sk-toggleable__control:checked~div.sk-toggleable__content {\n",
       "  /* Expand drop-down */\n",
       "  max-height: 200px;\n",
       "  max-width: 100%;\n",
       "  overflow: auto;\n",
       "}\n",
       "\n",
       "#sk-container-id-1 input.sk-toggleable__control:checked~label.sk-toggleable__label-arrow:before {\n",
       "  content: \"▾\";\n",
       "}\n",
       "\n",
       "/* Pipeline/ColumnTransformer-specific style */\n",
       "\n",
       "#sk-container-id-1 div.sk-label input.sk-toggleable__control:checked~label.sk-toggleable__label {\n",
       "  color: var(--sklearn-color-text);\n",
       "  background-color: var(--sklearn-color-unfitted-level-2);\n",
       "}\n",
       "\n",
       "#sk-container-id-1 div.sk-label.fitted input.sk-toggleable__control:checked~label.sk-toggleable__label {\n",
       "  background-color: var(--sklearn-color-fitted-level-2);\n",
       "}\n",
       "\n",
       "/* Estimator-specific style */\n",
       "\n",
       "/* Colorize estimator box */\n",
       "#sk-container-id-1 div.sk-estimator input.sk-toggleable__control:checked~label.sk-toggleable__label {\n",
       "  /* unfitted */\n",
       "  background-color: var(--sklearn-color-unfitted-level-2);\n",
       "}\n",
       "\n",
       "#sk-container-id-1 div.sk-estimator.fitted input.sk-toggleable__control:checked~label.sk-toggleable__label {\n",
       "  /* fitted */\n",
       "  background-color: var(--sklearn-color-fitted-level-2);\n",
       "}\n",
       "\n",
       "#sk-container-id-1 div.sk-label label.sk-toggleable__label,\n",
       "#sk-container-id-1 div.sk-label label {\n",
       "  /* The background is the default theme color */\n",
       "  color: var(--sklearn-color-text-on-default-background);\n",
       "}\n",
       "\n",
       "/* On hover, darken the color of the background */\n",
       "#sk-container-id-1 div.sk-label:hover label.sk-toggleable__label {\n",
       "  color: var(--sklearn-color-text);\n",
       "  background-color: var(--sklearn-color-unfitted-level-2);\n",
       "}\n",
       "\n",
       "/* Label box, darken color on hover, fitted */\n",
       "#sk-container-id-1 div.sk-label.fitted:hover label.sk-toggleable__label.fitted {\n",
       "  color: var(--sklearn-color-text);\n",
       "  background-color: var(--sklearn-color-fitted-level-2);\n",
       "}\n",
       "\n",
       "/* Estimator label */\n",
       "\n",
       "#sk-container-id-1 div.sk-label label {\n",
       "  font-family: monospace;\n",
       "  font-weight: bold;\n",
       "  display: inline-block;\n",
       "  line-height: 1.2em;\n",
       "}\n",
       "\n",
       "#sk-container-id-1 div.sk-label-container {\n",
       "  text-align: center;\n",
       "}\n",
       "\n",
       "/* Estimator-specific */\n",
       "#sk-container-id-1 div.sk-estimator {\n",
       "  font-family: monospace;\n",
       "  border: 1px dotted var(--sklearn-color-border-box);\n",
       "  border-radius: 0.25em;\n",
       "  box-sizing: border-box;\n",
       "  margin-bottom: 0.5em;\n",
       "  /* unfitted */\n",
       "  background-color: var(--sklearn-color-unfitted-level-0);\n",
       "}\n",
       "\n",
       "#sk-container-id-1 div.sk-estimator.fitted {\n",
       "  /* fitted */\n",
       "  background-color: var(--sklearn-color-fitted-level-0);\n",
       "}\n",
       "\n",
       "/* on hover */\n",
       "#sk-container-id-1 div.sk-estimator:hover {\n",
       "  /* unfitted */\n",
       "  background-color: var(--sklearn-color-unfitted-level-2);\n",
       "}\n",
       "\n",
       "#sk-container-id-1 div.sk-estimator.fitted:hover {\n",
       "  /* fitted */\n",
       "  background-color: var(--sklearn-color-fitted-level-2);\n",
       "}\n",
       "\n",
       "/* Specification for estimator info (e.g. \"i\" and \"?\") */\n",
       "\n",
       "/* Common style for \"i\" and \"?\" */\n",
       "\n",
       ".sk-estimator-doc-link,\n",
       "a:link.sk-estimator-doc-link,\n",
       "a:visited.sk-estimator-doc-link {\n",
       "  float: right;\n",
       "  font-size: smaller;\n",
       "  line-height: 1em;\n",
       "  font-family: monospace;\n",
       "  background-color: var(--sklearn-color-background);\n",
       "  border-radius: 1em;\n",
       "  height: 1em;\n",
       "  width: 1em;\n",
       "  text-decoration: none !important;\n",
       "  margin-left: 1ex;\n",
       "  /* unfitted */\n",
       "  border: var(--sklearn-color-unfitted-level-1) 1pt solid;\n",
       "  color: var(--sklearn-color-unfitted-level-1);\n",
       "}\n",
       "\n",
       ".sk-estimator-doc-link.fitted,\n",
       "a:link.sk-estimator-doc-link.fitted,\n",
       "a:visited.sk-estimator-doc-link.fitted {\n",
       "  /* fitted */\n",
       "  border: var(--sklearn-color-fitted-level-1) 1pt solid;\n",
       "  color: var(--sklearn-color-fitted-level-1);\n",
       "}\n",
       "\n",
       "/* On hover */\n",
       "div.sk-estimator:hover .sk-estimator-doc-link:hover,\n",
       ".sk-estimator-doc-link:hover,\n",
       "div.sk-label-container:hover .sk-estimator-doc-link:hover,\n",
       ".sk-estimator-doc-link:hover {\n",
       "  /* unfitted */\n",
       "  background-color: var(--sklearn-color-unfitted-level-3);\n",
       "  color: var(--sklearn-color-background);\n",
       "  text-decoration: none;\n",
       "}\n",
       "\n",
       "div.sk-estimator.fitted:hover .sk-estimator-doc-link.fitted:hover,\n",
       ".sk-estimator-doc-link.fitted:hover,\n",
       "div.sk-label-container:hover .sk-estimator-doc-link.fitted:hover,\n",
       ".sk-estimator-doc-link.fitted:hover {\n",
       "  /* fitted */\n",
       "  background-color: var(--sklearn-color-fitted-level-3);\n",
       "  color: var(--sklearn-color-background);\n",
       "  text-decoration: none;\n",
       "}\n",
       "\n",
       "/* Span, style for the box shown on hovering the info icon */\n",
       ".sk-estimator-doc-link span {\n",
       "  display: none;\n",
       "  z-index: 9999;\n",
       "  position: relative;\n",
       "  font-weight: normal;\n",
       "  right: .2ex;\n",
       "  padding: .5ex;\n",
       "  margin: .5ex;\n",
       "  width: min-content;\n",
       "  min-width: 20ex;\n",
       "  max-width: 50ex;\n",
       "  color: var(--sklearn-color-text);\n",
       "  box-shadow: 2pt 2pt 4pt #999;\n",
       "  /* unfitted */\n",
       "  background: var(--sklearn-color-unfitted-level-0);\n",
       "  border: .5pt solid var(--sklearn-color-unfitted-level-3);\n",
       "}\n",
       "\n",
       ".sk-estimator-doc-link.fitted span {\n",
       "  /* fitted */\n",
       "  background: var(--sklearn-color-fitted-level-0);\n",
       "  border: var(--sklearn-color-fitted-level-3);\n",
       "}\n",
       "\n",
       ".sk-estimator-doc-link:hover span {\n",
       "  display: block;\n",
       "}\n",
       "\n",
       "/* \"?\"-specific style due to the `<a>` HTML tag */\n",
       "\n",
       "#sk-container-id-1 a.estimator_doc_link {\n",
       "  float: right;\n",
       "  font-size: 1rem;\n",
       "  line-height: 1em;\n",
       "  font-family: monospace;\n",
       "  background-color: var(--sklearn-color-background);\n",
       "  border-radius: 1rem;\n",
       "  height: 1rem;\n",
       "  width: 1rem;\n",
       "  text-decoration: none;\n",
       "  /* unfitted */\n",
       "  color: var(--sklearn-color-unfitted-level-1);\n",
       "  border: var(--sklearn-color-unfitted-level-1) 1pt solid;\n",
       "}\n",
       "\n",
       "#sk-container-id-1 a.estimator_doc_link.fitted {\n",
       "  /* fitted */\n",
       "  border: var(--sklearn-color-fitted-level-1) 1pt solid;\n",
       "  color: var(--sklearn-color-fitted-level-1);\n",
       "}\n",
       "\n",
       "/* On hover */\n",
       "#sk-container-id-1 a.estimator_doc_link:hover {\n",
       "  /* unfitted */\n",
       "  background-color: var(--sklearn-color-unfitted-level-3);\n",
       "  color: var(--sklearn-color-background);\n",
       "  text-decoration: none;\n",
       "}\n",
       "\n",
       "#sk-container-id-1 a.estimator_doc_link.fitted:hover {\n",
       "  /* fitted */\n",
       "  background-color: var(--sklearn-color-fitted-level-3);\n",
       "}\n",
       "</style><div id=\"sk-container-id-1\" class=\"sk-top-container\"><div class=\"sk-text-repr-fallback\"><pre>SVC()</pre><b>In a Jupyter environment, please rerun this cell to show the HTML representation or trust the notebook. <br />On GitHub, the HTML representation is unable to render, please try loading this page with nbviewer.org.</b></div><div class=\"sk-container\" hidden><div class=\"sk-item\"><div class=\"sk-estimator fitted sk-toggleable\"><input class=\"sk-toggleable__control sk-hidden--visually\" id=\"sk-estimator-id-1\" type=\"checkbox\" checked><label for=\"sk-estimator-id-1\" class=\"sk-toggleable__label fitted sk-toggleable__label-arrow fitted\">&nbsp;&nbsp;SVC<a class=\"sk-estimator-doc-link fitted\" rel=\"noreferrer\" target=\"_blank\" href=\"https://scikit-learn.org/1.5/modules/generated/sklearn.svm.SVC.html\">?<span>Documentation for SVC</span></a><span class=\"sk-estimator-doc-link fitted\">i<span>Fitted</span></span></label><div class=\"sk-toggleable__content fitted\"><pre>SVC()</pre></div> </div></div></div></div>"
      ],
      "text/plain": [
       "SVC()"
      ]
     },
     "execution_count": 87,
     "metadata": {},
     "output_type": "execute_result"
    }
   ],
   "source": [
    "from sklearn import svm\n",
    "\n",
    "model=svm.SVC()\n",
    "model.fit(X_reshaped,y_train)"
   ]
  },
  {
   "cell_type": "code",
   "execution_count": 88,
   "id": "796a404e-0f4b-42f9-9d83-3ab255de1636",
   "metadata": {},
   "outputs": [
    {
     "name": "stdout",
     "output_type": "stream",
     "text": [
      "0.5467455621301776\n"
     ]
    }
   ],
   "source": [
    "from sklearn.metrics import accuracy_score\n",
    "y_pred = model.predict(X_test_reshaped)\n",
    "print(accuracy_score(y_test, y_pred))"
   ]
  },
  {
   "cell_type": "code",
   "execution_count": 89,
   "id": "b3d9cd74-474a-4d85-8dc0-9722029df155",
   "metadata": {},
   "outputs": [
    {
     "name": "stdout",
     "output_type": "stream",
     "text": [
      "[[45  9  9  8  3  2  2  0  1  1]\n",
      " [ 5 35 14  8  4  2  2  2  0  1]\n",
      " [ 5 10 43  4  7  1  1  0  0  0]\n",
      " [ 5  1  4 92  6  0  0  0  3  0]\n",
      " [ 6  3  8 26 24  0  0  0  2  1]\n",
      " [ 9  8  6  2  0 34  3 10  8  2]\n",
      " [ 2  4  6  3  2  3 40  7 12  0]\n",
      " [ 0  5  7  2  1  1  3 45 12  2]\n",
      " [ 4  1  4  5  1  0  3  7 83  6]\n",
      " [ 2  1  1  7  2  1  9  7 36 21]]\n"
     ]
    }
   ],
   "source": [
    "from sklearn.metrics import confusion_matrix\n",
    "\n",
    "print(confusion_matrix(y_test, y_pred))"
   ]
  },
  {
   "cell_type": "code",
   "execution_count": null,
   "id": "3adf91f6-42e6-4e4f-94e0-4fc608e3ac77",
   "metadata": {},
   "outputs": [],
   "source": []
  },
  {
   "cell_type": "code",
   "execution_count": null,
   "id": "7af28f26-b3ba-492e-b0b3-2d2f44569d40",
   "metadata": {},
   "outputs": [],
   "source": []
  }
 ],
 "metadata": {
  "kernelspec": {
   "display_name": "Python 3 (ipykernel)",
   "language": "python",
   "name": "python3"
  },
  "language_info": {
   "codemirror_mode": {
    "name": "ipython",
    "version": 3
   },
   "file_extension": ".py",
   "mimetype": "text/x-python",
   "name": "python",
   "nbconvert_exporter": "python",
   "pygments_lexer": "ipython3",
   "version": "3.12.7"
  }
 },
 "nbformat": 4,
 "nbformat_minor": 5
}
